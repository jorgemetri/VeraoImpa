{
 "cells": [
  {
   "cell_type": "code",
   "execution_count": 3,
   "id": "077b4c72",
   "metadata": {},
   "outputs": [],
   "source": [
    "import csv\n",
    "from striprtf.striprtf import rtf_to_text\n",
    "\n",
    "def converter_rtf_para_csv(nome_arquivo_entrada, nome_arquivo_saida):\n",
    "    with open(nome_arquivo_entrada, 'r') as arquivo_entrada:\n",
    "        conteudo_rtf = arquivo_entrada.read()\n",
    "    texto = rtf_to_text(conteudo_rtf)\n",
    "\n",
    "    linhas = texto.split('\\n')\n",
    "\n",
    "    with open(nome_arquivo_saida, 'w', newline='', encoding='utf-8') as arquivo_saida:\n",
    "        escritor_csv = csv.writer(arquivo_saida)\n",
    "        for linha in linhas:\n",
    "            if ' - ' in linha:\n",
    "                texto1, texto2 = linha.strip().split(' - ')\n",
    "                escritor_csv.writerow([texto1.strip(), texto2.strip()])\n",
    "\n",
    "# Substitua 'seu_arquivo_entrada.rtf' pelo nome do seu arquivo RTF\n",
    "# e 'seu_arquivo_saida.csv' pelo nome desejado para o arquivo CSV.\n",
    "converter_rtf_para_csv('Palavras.rtf', 'seu_arquivo_saida.csv')\n"
   ]
  },
  {
   "cell_type": "code",
   "execution_count": 4,
   "id": "4a7a03c8",
   "metadata": {},
   "outputs": [],
   "source": [
    "import csv\n",
    "from striprtf.striprtf import rtf_to_text\n",
    "\n",
    "def converter_rtf_para_csv(nome_arquivo_entrada, nome_arquivo_saida):\n",
    "    with open(nome_arquivo_entrada, 'r') as arquivo_entrada:\n",
    "        conteudo_rtf = arquivo_entrada.read()\n",
    "    texto = rtf_to_text(conteudo_rtf)\n",
    "\n",
    "    linhas = texto.split('\\n')\n",
    "\n",
    "    with open(nome_arquivo_saida, 'w', newline='', encoding='utf-8') as arquivo_saida:\n",
    "        escritor_csv = csv.writer(arquivo_saida)\n",
    "        for linha in linhas:\n",
    "            if ' - ' in linha:\n",
    "                partes = linha.strip().split(' - ', 1)\n",
    "                if len(partes) == 2:\n",
    "                    texto1, texto2 = partes\n",
    "                    escritor_csv.writerow([texto1.strip(), texto2.strip()])\n",
    "\n",
    "# Substitua 'seu_arquivo_entrada.rtf' pelo nome do seu arquivo RTF\n",
    "# e 'seu_arquivo_saida.csv' pelo nome desejado para o arquivo CSV.\n",
    "converter_rtf_para_csv('Palavras.rtf', 'seu_arquivo_saida.csv')\n"
   ]
  },
  {
   "cell_type": "code",
   "execution_count": 5,
   "id": "72aa332f",
   "metadata": {},
   "outputs": [
    {
     "name": "stdout",
     "output_type": "stream",
     "text": [
      "Conversão concluída com sucesso!\n"
     ]
    }
   ],
   "source": [
    "import pandas as pd\n",
    "\n",
    "# Caminho do arquivo Excel que você deseja converter\n",
    "caminho_excel = 'Teste.xlsx'\n",
    "\n",
    "# Lendo o arquivo Excel\n",
    "df = pd.read_excel(caminho_excel)\n",
    "\n",
    "# Caminho do arquivo CSV resultante\n",
    "caminho_csv = 'Teste.csv'\n",
    "\n",
    "# Convertendo e salvando como CSV\n",
    "df.to_csv(caminho_csv, index=False)\n",
    "\n",
    "print(\"Conversão concluída com sucesso!\")\n"
   ]
  },
  {
   "cell_type": "code",
   "execution_count": null,
   "id": "40d19b16",
   "metadata": {},
   "outputs": [],
   "source": []
  }
 ],
 "metadata": {
  "kernelspec": {
   "display_name": "Python 3 (ipykernel)",
   "language": "python",
   "name": "python3"
  },
  "language_info": {
   "codemirror_mode": {
    "name": "ipython",
    "version": 3
   },
   "file_extension": ".py",
   "mimetype": "text/x-python",
   "name": "python",
   "nbconvert_exporter": "python",
   "pygments_lexer": "ipython3",
   "version": "3.9.13"
  }
 },
 "nbformat": 4,
 "nbformat_minor": 5
}

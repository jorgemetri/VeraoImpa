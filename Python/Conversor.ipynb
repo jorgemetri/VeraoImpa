{
 "cells": [
  {
   "cell_type": "code",
   "execution_count": 1,
   "id": "077b4c72",
   "metadata": {},
   "outputs": [
    {
     "ename": "ValueError",
     "evalue": "too many values to unpack (expected 2)",
     "output_type": "error",
     "traceback": [
      "\u001b[0;31m---------------------------------------------------------------------------\u001b[0m",
      "\u001b[0;31mValueError\u001b[0m                                Traceback (most recent call last)",
      "\u001b[0;32m/var/folders/6r/1f4_69rd7vnf6pcbss28n9_00000gn/T/ipykernel_37257/2701590138.py\u001b[0m in \u001b[0;36m<module>\u001b[0;34m\u001b[0m\n\u001b[1;32m     18\u001b[0m \u001b[0;31m# Substitua 'seu_arquivo_entrada.rtf' pelo nome do seu arquivo RTF\u001b[0m\u001b[0;34m\u001b[0m\u001b[0;34m\u001b[0m\u001b[0m\n\u001b[1;32m     19\u001b[0m \u001b[0;31m# e 'seu_arquivo_saida.csv' pelo nome desejado para o arquivo CSV.\u001b[0m\u001b[0;34m\u001b[0m\u001b[0;34m\u001b[0m\u001b[0m\n\u001b[0;32m---> 20\u001b[0;31m \u001b[0mconverter_rtf_para_csv\u001b[0m\u001b[0;34m(\u001b[0m\u001b[0;34m'flashcard.rtf'\u001b[0m\u001b[0;34m,\u001b[0m \u001b[0;34m'seu_arquivo_saida.csv'\u001b[0m\u001b[0;34m)\u001b[0m\u001b[0;34m\u001b[0m\u001b[0;34m\u001b[0m\u001b[0m\n\u001b[0m",
      "\u001b[0;32m/var/folders/6r/1f4_69rd7vnf6pcbss28n9_00000gn/T/ipykernel_37257/2701590138.py\u001b[0m in \u001b[0;36mconverter_rtf_para_csv\u001b[0;34m(nome_arquivo_entrada, nome_arquivo_saida)\u001b[0m\n\u001b[1;32m     13\u001b[0m         \u001b[0;32mfor\u001b[0m \u001b[0mlinha\u001b[0m \u001b[0;32min\u001b[0m \u001b[0mlinhas\u001b[0m\u001b[0;34m:\u001b[0m\u001b[0;34m\u001b[0m\u001b[0;34m\u001b[0m\u001b[0m\n\u001b[1;32m     14\u001b[0m             \u001b[0;32mif\u001b[0m \u001b[0;34m' - '\u001b[0m \u001b[0;32min\u001b[0m \u001b[0mlinha\u001b[0m\u001b[0;34m:\u001b[0m\u001b[0;34m\u001b[0m\u001b[0;34m\u001b[0m\u001b[0m\n\u001b[0;32m---> 15\u001b[0;31m                 \u001b[0mtexto1\u001b[0m\u001b[0;34m,\u001b[0m \u001b[0mtexto2\u001b[0m \u001b[0;34m=\u001b[0m \u001b[0mlinha\u001b[0m\u001b[0;34m.\u001b[0m\u001b[0mstrip\u001b[0m\u001b[0;34m(\u001b[0m\u001b[0;34m)\u001b[0m\u001b[0;34m.\u001b[0m\u001b[0msplit\u001b[0m\u001b[0;34m(\u001b[0m\u001b[0;34m' - '\u001b[0m\u001b[0;34m)\u001b[0m\u001b[0;34m\u001b[0m\u001b[0;34m\u001b[0m\u001b[0m\n\u001b[0m\u001b[1;32m     16\u001b[0m                 \u001b[0mescritor_csv\u001b[0m\u001b[0;34m.\u001b[0m\u001b[0mwriterow\u001b[0m\u001b[0;34m(\u001b[0m\u001b[0;34m[\u001b[0m\u001b[0mtexto1\u001b[0m\u001b[0;34m.\u001b[0m\u001b[0mstrip\u001b[0m\u001b[0;34m(\u001b[0m\u001b[0;34m)\u001b[0m\u001b[0;34m,\u001b[0m \u001b[0mtexto2\u001b[0m\u001b[0;34m.\u001b[0m\u001b[0mstrip\u001b[0m\u001b[0;34m(\u001b[0m\u001b[0;34m)\u001b[0m\u001b[0;34m]\u001b[0m\u001b[0;34m)\u001b[0m\u001b[0;34m\u001b[0m\u001b[0;34m\u001b[0m\u001b[0m\n\u001b[1;32m     17\u001b[0m \u001b[0;34m\u001b[0m\u001b[0m\n",
      "\u001b[0;31mValueError\u001b[0m: too many values to unpack (expected 2)"
     ]
    }
   ],
   "source": [
    "import csv\n",
    "from striprtf.striprtf import rtf_to_text\n",
    "\n",
    "def converter_rtf_para_csv(nome_arquivo_entrada, nome_arquivo_saida):\n",
    "    with open(nome_arquivo_entrada, 'r') as arquivo_entrada:\n",
    "        conteudo_rtf = arquivo_entrada.read()\n",
    "    texto = rtf_to_text(conteudo_rtf)\n",
    "\n",
    "    linhas = texto.split('\\n')\n",
    "\n",
    "    with open(nome_arquivo_saida, 'w', newline='', encoding='utf-8') as arquivo_saida:\n",
    "        escritor_csv = csv.writer(arquivo_saida)\n",
    "        for linha in linhas:\n",
    "            if ' - ' in linha:\n",
    "                texto1, texto2 = linha.strip().split(' - ')\n",
    "                escritor_csv.writerow([texto1.strip(), texto2.strip()])\n",
    "\n",
    "# Substitua 'seu_arquivo_entrada.rtf' pelo nome do seu arquivo RTF\n",
    "# e 'seu_arquivo_saida.csv' pelo nome desejado para o arquivo CSV.\n",
    "converter_rtf_para_csv('flashcard.rtf', 'seu_arquivo_saida.csv')\n"
   ]
  },
  {
   "cell_type": "code",
   "execution_count": 2,
   "id": "4a7a03c8",
   "metadata": {},
   "outputs": [],
   "source": [
    "import csv\n",
    "from striprtf.striprtf import rtf_to_text\n",
    "\n",
    "def converter_rtf_para_csv(nome_arquivo_entrada, nome_arquivo_saida):\n",
    "    with open(nome_arquivo_entrada, 'r') as arquivo_entrada:\n",
    "        conteudo_rtf = arquivo_entrada.read()\n",
    "    texto = rtf_to_text(conteudo_rtf)\n",
    "\n",
    "    linhas = texto.split('\\n')\n",
    "\n",
    "    with open(nome_arquivo_saida, 'w', newline='', encoding='utf-8') as arquivo_saida:\n",
    "        escritor_csv = csv.writer(arquivo_saida)\n",
    "        for linha in linhas:\n",
    "            if ' - ' in linha:\n",
    "                partes = linha.strip().split(' - ', 1)\n",
    "                if len(partes) == 2:\n",
    "                    texto1, texto2 = partes\n",
    "                    escritor_csv.writerow([texto1.strip(), texto2.strip()])\n",
    "\n",
    "# Substitua 'seu_arquivo_entrada.rtf' pelo nome do seu arquivo RTF\n",
    "# e 'seu_arquivo_saida.csv' pelo nome desejado para o arquivo CSV.\n",
    "converter_rtf_para_csv('flashcard.rtf', 'seu_arquivo_saida.csv')\n"
   ]
  },
  {
   "cell_type": "code",
   "execution_count": 1,
   "id": "72aa332f",
   "metadata": {},
   "outputs": [
    {
     "name": "stdout",
     "output_type": "stream",
     "text": [
      "Conversão concluída com sucesso!\n"
     ]
    }
   ],
   "source": [
    "import pandas as pd\n",
    "\n",
    "# Caminho do arquivo Excel que você deseja converter\n",
    "caminho_excel = 'Teste.xlsx'\n",
    "\n",
    "# Lendo o arquivo Excel\n",
    "df = pd.read_excel(caminho_excel)\n",
    "\n",
    "# Caminho do arquivo CSV resultante\n",
    "caminho_csv = 'Teste.csv'\n",
    "\n",
    "# Convertendo e salvando como CSV\n",
    "df.to_csv(caminho_csv, index=False)\n",
    "\n",
    "print(\"Conversão concluída com sucesso!\")\n"
   ]
  },
  {
   "cell_type": "code",
   "execution_count": 2,
   "id": "59462f37",
   "metadata": {},
   "outputs": [
    {
     "name": "stdout",
     "output_type": "stream",
     "text": [
      "Conversão concluída com sucesso!\n"
     ]
    }
   ],
   "source": [
    "import openpyxl\n",
    "import csv\n",
    "\n",
    "# Caminho do arquivo Excel que deseja converter\n",
    "caminho_excel = 'Teste.xlsx'\n",
    "\n",
    "# Abrindo o arquivo Excel\n",
    "wb = openpyxl.load_workbook(caminho_excel)\n",
    "sheet = wb.active\n",
    "\n",
    "# Caminho do arquivo CSV resultante\n",
    "caminho_csv = 'Teste.csv'\n",
    "\n",
    "# Criando e escrevendo no arquivo CSV\n",
    "with open(caminho_csv, 'w', newline=\"\") as file:\n",
    "    writer = csv.writer(file)\n",
    "    for row in sheet.iter_rows(values_only=True):\n",
    "        writer.writerow(row)\n",
    "\n",
    "print(\"Conversão concluída com sucesso!\")\n"
   ]
  },
  {
   "cell_type": "code",
   "execution_count": null,
   "id": "571f38e9",
   "metadata": {},
   "outputs": [],
   "source": []
  }
 ],
 "metadata": {
  "kernelspec": {
   "display_name": "Python 3 (ipykernel)",
   "language": "python",
   "name": "python3"
  },
  "language_info": {
   "codemirror_mode": {
    "name": "ipython",
    "version": 3
   },
   "file_extension": ".py",
   "mimetype": "text/x-python",
   "name": "python",
   "nbconvert_exporter": "python",
   "pygments_lexer": "ipython3",
   "version": "3.9.13"
  }
 },
 "nbformat": 4,
 "nbformat_minor": 5
}

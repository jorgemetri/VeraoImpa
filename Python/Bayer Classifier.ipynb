{
 "cells": [
  {
   "cell_type": "code",
   "execution_count": 21,
   "id": "a03448c0",
   "metadata": {},
   "outputs": [],
   "source": [
    "import pandas as pd\n",
    "from scipy import stats\n",
    "\n",
    "# Carregar o arquivo Excel\n",
    "arquivo_excel = 'bayerclassifier.xlsx'\n",
    "df = pd.read_excel(arquivo_excel)\n",
    "\n",
    "# Salvar a primeira folha como CSV\n",
    "arquivo_csv = 'saida.csv'\n",
    "df.to_csv(arquivo_csv, index=False)\n"
   ]
  },
  {
   "cell_type": "code",
   "execution_count": 22,
   "id": "950f2f1e",
   "metadata": {},
   "outputs": [
    {
     "data": {
      "text/plain": [
       "Index(['Pessoa', 'Altura', 'Peso(lbs)', 'Tamanho do pe'], dtype='object')"
      ]
     },
     "execution_count": 22,
     "metadata": {},
     "output_type": "execute_result"
    }
   ],
   "source": [
    "base = pd.read_csv('saida.csv',header=0)\n",
    "base.columns"
   ]
  },
  {
   "cell_type": "code",
   "execution_count": 27,
   "id": "612bf4da",
   "metadata": {},
   "outputs": [
    {
     "name": "stdout",
     "output_type": "stream",
     "text": [
      "   Pessoa  Altura  Peso(lbs)  Tamanho do pe\n",
      "0       1    6.00        180             12\n",
      "1       1    5.92        190             11\n",
      "2       1    5.58        170             12\n",
      "3       1    5.92        165             10\n",
      "4       0    5.00        100              6\n",
      "5       0    5.50        150              8\n",
      "6       0    5.42        130              7\n",
      "7       0    5.75        150              9\n"
     ]
    }
   ],
   "source": [
    "print(base)"
   ]
  },
  {
   "cell_type": "code",
   "execution_count": 34,
   "id": "b12a699b",
   "metadata": {},
   "outputs": [],
   "source": [
    "def vari(x):\n",
    "    soma = 0\n",
    "    for i in x:\n",
    "        soma=soma+(i-x.mean())**2\n",
    "    return soma/(len(x)-1)"
   ]
  },
  {
   "cell_type": "code",
   "execution_count": 39,
   "id": "37e35765",
   "metadata": {},
   "outputs": [],
   "source": [
    "\n",
    "X = [6,130,8]"
   ]
  },
  {
   "cell_type": "code",
   "execution_count": 56,
   "id": "a2a70cbd",
   "metadata": {},
   "outputs": [
    {
     "name": "stdout",
     "output_type": "stream",
     "text": [
      "1.578883183264104 0.22345872684481596\n"
     ]
    }
   ],
   "source": [
    "import numpy as np\n",
    "\n",
    "altura = base['Altura']\n",
    "m1 = altura[0:4].mean()\n",
    "var1 = vari(altura[0:4])\n",
    "\n",
    "\n",
    "m2 = altura[4:8].mean()\n",
    "var2 = vari(altura[4:8])\n",
    "\n",
    "\n",
    "\n",
    "\n",
    "\n",
    "pdf11 = stats.norm(m1, np.sqrt(var1)).pdf(X[0])\n",
    "pdf21 = stats.norm(m2, np.sqrt(var2)).pdf(X[0])\n",
    "print(pdf11,pdf21)"
   ]
  },
  {
   "cell_type": "code",
   "execution_count": 55,
   "id": "f752c1fe",
   "metadata": {},
   "outputs": [
    {
     "name": "stdout",
     "output_type": "stream",
     "text": [
      "5.986743024812142e-06 0.016789297889908364\n"
     ]
    }
   ],
   "source": [
    "import numpy as np\n",
    "\n",
    "altura = base['Peso(lbs)']\n",
    "m1 = altura[0:4].mean()\n",
    "var1 = vari(altura[0:4])\n",
    "\n",
    "\n",
    "m2 = altura[4:8].mean()\n",
    "var2 = vari(altura[4:8])\n",
    "\n",
    "\n",
    "\n",
    "\n",
    "\n",
    "pdf12 = stats.norm(m1, np.sqrt(var1)).pdf(X[1])\n",
    "pdf22 = stats.norm(m2, np.sqrt(var2)).pdf(X[1])\n",
    "print(pdf12,pdf22)"
   ]
  },
  {
   "cell_type": "code",
   "execution_count": 51,
   "id": "6619631f",
   "metadata": {},
   "outputs": [
    {
     "name": "stdout",
     "output_type": "stream",
     "text": [
      "0.0013112210442223476 0.2866906998910189\n"
     ]
    }
   ],
   "source": [
    "import numpy as np\n",
    "\n",
    "altura = base['Tamanho do pe']\n",
    "m1 = altura[0:4].mean()\n",
    "var1 = vari(altura[0:4])\n",
    "\n",
    "\n",
    "m2 = altura[4:8].mean()\n",
    "var2 = vari(altura[4:8])\n",
    "\n",
    "\n",
    "\n",
    "\n",
    "\n",
    "pdf13 = stats.norm(m1, np.sqrt(var1)).pdf(X[2])\n",
    "pdf23 = stats.norm(m2, np.sqrt(var2)).pdf(X[2])\n",
    "print(pdf13,pdf23)"
   ]
  },
  {
   "cell_type": "code",
   "execution_count": 67,
   "id": "5462bf66",
   "metadata": {},
   "outputs": [
    {
     "name": "stdout",
     "output_type": "stream",
     "text": [
      "1.152306634978384e-05\n",
      "0.9999884769336502\n",
      "True\n"
     ]
    }
   ],
   "source": [
    "s = 0.5*pdf11*pdf12*pdf13\n",
    "c=0.5*pdf21*pdf22*pdf23\n",
    "\n",
    "p1=s/(s+c)\n",
    "p2=c/(s+c)\n",
    "print(p1)\n",
    "print(p2)\n",
    "print(p2>p1)"
   ]
  },
  {
   "cell_type": "code",
   "execution_count": null,
   "id": "cdd0e5d0",
   "metadata": {},
   "outputs": [],
   "source": []
  }
 ],
 "metadata": {
  "kernelspec": {
   "display_name": "Python 3 (ipykernel)",
   "language": "python",
   "name": "python3"
  },
  "language_info": {
   "codemirror_mode": {
    "name": "ipython",
    "version": 3
   },
   "file_extension": ".py",
   "mimetype": "text/x-python",
   "name": "python",
   "nbconvert_exporter": "python",
   "pygments_lexer": "ipython3",
   "version": "3.9.13"
  }
 },
 "nbformat": 4,
 "nbformat_minor": 5
}

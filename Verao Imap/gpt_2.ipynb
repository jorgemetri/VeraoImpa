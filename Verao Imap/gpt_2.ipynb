{
 "cells": [
  {
   "cell_type": "markdown",
   "id": "c37b9808",
   "metadata": {},
   "source": [
    "# 2 - Rede neural de uma camada\n",
    "\n",
    "Nosso objetivo é usar redes neurais para gerar algo que se parece com português. Mais especificamente, algo que se pareça com um português específico --- aquele usado por Machado de Assis.\n",
    "\n",
    "O código desse notebook é adaptado do repositório `nn-zero-to-hero`, de Andrej Karpathy. Os notebooks correspondentes (em inglês) podem ser encontradas na seguinte URL: https://github.com/karpathy/nn-zero-to-hero/blob/master/lectures/makemore/.\n",
    "\n",
    "-------------------------------"
   ]
  },
  {
   "cell_type": "markdown",
   "id": "4da54c5e",
   "metadata": {},
   "source": [
    "## 2.1 Criando datasets de treino, validação e teste"
   ]
  },
  {
   "cell_type": "markdown",
   "id": "77c56f3f",
   "metadata": {},
   "source": [
    "Como antes, vamos criar os dicionários que relacionam os caracteres e seus respectivos valores inteiros:"
   ]
  },
  {
   "cell_type": "code",
   "execution_count": 1,
   "id": "dd6be3c3",
   "metadata": {},
   "outputs": [],
   "source": [
    "import torch\n",
    "import torch.nn.functional as F\n",
    "import matplotlib.pyplot as plt\n",
    "%matplotlib inline"
   ]
  },
  {
   "cell_type": "code",
   "execution_count": 2,
   "id": "8a272236",
   "metadata": {},
   "outputs": [],
   "source": [
    "with open(\"../data/gpt/processed/machado-all.txt\", \"r\") as f:\n",
    "    text = f.read()"
   ]
  },
  {
   "cell_type": "code",
   "execution_count": 3,
   "id": "351cb6d9",
   "metadata": {},
   "outputs": [],
   "source": [
    "chars = sorted(list(set(text)))\n",
    "vocab_size = len(chars)\n",
    "stoi = { ch:i for i,ch in enumerate(chars) }\n",
    "itos = { i:ch for i,ch in enumerate(chars) }\n",
    "encode = lambda s: [stoi[c] for c in s] # encoder: entra string, saem inteiros\n",
    "decode = lambda l: ''.join([itos[i] for i in l]) # decoder: entram inteiros, sai uma string"
   ]
  },
  {
   "cell_type": "code",
   "execution_count": 4,
   "id": "187acd19",
   "metadata": {},
   "outputs": [
    {
     "data": {
      "text/plain": [
       "14460835"
      ]
     },
     "execution_count": 4,
     "metadata": {},
     "output_type": "execute_result"
    }
   ],
   "source": [
    "len(text)"
   ]
  },
  {
   "cell_type": "code",
   "execution_count": 5,
   "id": "d3e75a06",
   "metadata": {},
   "outputs": [
    {
     "name": "stdout",
     "output_type": "stream",
     "text": [
      "deve ser o contraste do roastbeef britânico, com que se alimenta a liberdade do reino unido. \n"
     ]
    }
   ],
   "source": [
    "data = text\n",
    "print(data[1079:1172])"
   ]
  },
  {
   "cell_type": "markdown",
   "id": "ca116146",
   "metadata": {},
   "source": [
    "Como no caso dos trigramas de antes, vamos usar um contexto com 3 caracteres (mas o código abaixo funciona para tamanhos arbitrários)."
   ]
  },
  {
   "cell_type": "code",
   "execution_count": 6,
   "id": "8371e64b",
   "metadata": {},
   "outputs": [
    {
     "name": "stdout",
     "output_type": "stream",
     "text": [
      "    ---> c\n",
      "  c ---> o\n",
      " co ---> n\n",
      "con ---> t\n",
      "ont ---> o\n"
     ]
    }
   ],
   "source": [
    "block_size = 3 # tamanho do contexto\n",
    "X, Y = [], []\n",
    "context = [0] * block_size\n",
    "for i, ch in enumerate(data):\n",
    "    ix = stoi[ch]\n",
    "    X.append(context)\n",
    "    Y.append(ix)\n",
    "    if i < 5:\n",
    "        print(''.join(itos[i] for i in context), '--->', itos[ix])\n",
    "    context = context[1:] + [ix]\n",
    "\n",
    "X = torch.tensor(X)\n",
    "Y = torch.tensor(Y)"
   ]
  },
  {
   "cell_type": "markdown",
   "id": "bad2d0d6",
   "metadata": {},
   "source": [
    "Como exatamente está estruturado esse dataset? Temos uma sequência de inteiros correspondendo aos três primeiros caracteres, e queremos prever o quarto. Vamos usar a primeira palavra como um exemplo."
   ]
  },
  {
   "cell_type": "code",
   "execution_count": 7,
   "id": "f804d879",
   "metadata": {},
   "outputs": [
    {
     "name": "stdout",
     "output_type": "stream",
     "text": [
      " \t \t \tc\to\tn\tt\to\t,\n",
      "0\t0\t0\t7\t19\t18\t24\t19\t1\n"
     ]
    }
   ],
   "source": [
    "first_word = \"   \" + text.split(\" \")[0]\n",
    "print(\"\\t\".join(first_word))\n",
    "print(\"\\t\".join([str(stoi[c]) for c in first_word]))"
   ]
  },
  {
   "cell_type": "code",
   "execution_count": 8,
   "id": "be666c3e",
   "metadata": {},
   "outputs": [
    {
     "name": "stdout",
     "output_type": "stream",
     "text": [
      "tensor([[ 0,  0,  0],\n",
      "        [ 0,  0,  7],\n",
      "        [ 0,  7, 19],\n",
      "        ...,\n",
      "        [16,  9, 23],\n",
      "        [ 9, 23,  5],\n",
      "        [23,  5, 23]])\n",
      "tensor([ 7, 19, 18,  ...,  5, 23,  3])\n"
     ]
    }
   ],
   "source": [
    "print(X)\n",
    "print(Y)"
   ]
  },
  {
   "cell_type": "markdown",
   "id": "70bd6479",
   "metadata": {},
   "source": [
    "Com uma rede neural mais complicada, é fácil overfit ao nosso conjunto de treino. Para monitorar essa possibilidade, vamos dividir os dados em treino, validação e teste."
   ]
  },
  {
   "cell_type": "code",
   "execution_count": 9,
   "id": "57cef821",
   "metadata": {},
   "outputs": [],
   "source": [
    "block_size = 3\n",
    "\n",
    "def build_dataset(data):  \n",
    "    X, Y = [], []\n",
    "    context = [0] * block_size\n",
    "    for ch in data:\n",
    "        ix = stoi[ch]\n",
    "        X.append(context)\n",
    "        Y.append(ix)\n",
    "        context = context[1:] + [ix]\n",
    "    \n",
    "    X = torch.tensor(X)\n",
    "    Y = torch.tensor(Y)\n",
    "    return X, Y\n",
    "\n",
    "n1 = int(0.8*len(data))\n",
    "n2 = int(0.9*len(data))\n",
    "\n",
    "Xtr, Ytr = build_dataset(data[:n1])\n",
    "Xdev, Ydev = build_dataset(data[n1:n2])\n",
    "Xte, Yte = build_dataset(data[n2:])"
   ]
  },
  {
   "cell_type": "code",
   "execution_count": 10,
   "id": "ce7c47fa",
   "metadata": {},
   "outputs": [
    {
     "name": "stdout",
     "output_type": "stream",
     "text": [
      "torch.Size([11568668, 3]) torch.Size([11568668])\n",
      "torch.Size([1446083, 3]) torch.Size([1446083])\n",
      "torch.Size([1446084, 3]) torch.Size([1446084])\n"
     ]
    }
   ],
   "source": [
    "print(Xtr.shape, Ytr.shape)\n",
    "print(Xdev.shape, Ydev.shape)\n",
    "print(Xte.shape, Yte.shape) "
   ]
  },
  {
   "cell_type": "markdown",
   "id": "570c33db",
   "metadata": {},
   "source": [
    "## 2.2 Embeddings"
   ]
  },
  {
   "cell_type": "markdown",
   "id": "faa3c525",
   "metadata": {},
   "source": [
    "Com o dataset pronto, podemos começar a considerar o modelo de rede neural. A ideia é primeiro criar um \"embedding\" que seja melhor do que one-hot encoding. De fato, o one-hot encoding usa um espaço de dimensão 42 para cada caractere, mas a gente espera que eles possam ser bem representados em dimensões menores. Vamos considerar em duas dimensões, por simplicidade."
   ]
  },
  {
   "cell_type": "code",
   "execution_count": 11,
   "id": "cdfa5ffb",
   "metadata": {},
   "outputs": [
    {
     "data": {
      "text/plain": [
       "torch.Size([11568668, 3, 42])"
      ]
     },
     "execution_count": 11,
     "metadata": {},
     "output_type": "execute_result"
    }
   ],
   "source": [
    "one_hot = torch.nn.functional.one_hot(Xtr, num_classes=vocab_size).float()\n",
    "one_hot.shape"
   ]
  },
  {
   "cell_type": "code",
   "execution_count": 12,
   "id": "e586bdf5",
   "metadata": {},
   "outputs": [
    {
     "data": {
      "text/plain": [
       "tensor([1., 0., 0., 0., 0., 0., 0., 0., 0., 0., 0., 0., 0., 0., 0., 0., 0., 0.,\n",
       "        0., 0., 0., 0., 0., 0., 0., 0., 0., 0., 0., 0., 0., 0., 0., 0., 0., 0.,\n",
       "        0., 0., 0., 0., 0., 0.])"
      ]
     },
     "execution_count": 12,
     "metadata": {},
     "output_type": "execute_result"
    }
   ],
   "source": [
    "one_hot[0, 0, :]"
   ]
  },
  {
   "cell_type": "code",
   "execution_count": 13,
   "id": "4f9e217b-8bbb-4db0-b3d4-6dc98784b739",
   "metadata": {},
   "outputs": [
    {
     "data": {
      "text/plain": [
       "' '"
      ]
     },
     "execution_count": 13,
     "metadata": {},
     "output_type": "execute_result"
    }
   ],
   "source": [
    "# O acima equivale à entrada (0, 0) do treino ser 0, isto é, caractere ' '\n",
    "itos[Xtr[0, 0].item()]"
   ]
  },
  {
   "cell_type": "markdown",
   "id": "ae2d3cb5",
   "metadata": {},
   "source": [
    "Do nosso ponto de vista, um embedding é simplesmente uma matriz que recebe os caracteres em `X` e os projeta em um espaço de dimensão dois. Vamos inicializá-lo de maneira aleatória, mas esse embedding será aprendido em breve."
   ]
  },
  {
   "cell_type": "code",
   "execution_count": 14,
   "id": "0f5439b6",
   "metadata": {},
   "outputs": [],
   "source": [
    "torch.manual_seed(0)\n",
    "C = torch.randn((vocab_size, 2))"
   ]
  },
  {
   "cell_type": "code",
   "execution_count": 15,
   "id": "fea5a903",
   "metadata": {},
   "outputs": [
    {
     "data": {
      "text/plain": [
       "torch.Size([11568668, 3, 2])"
      ]
     },
     "execution_count": 15,
     "metadata": {},
     "output_type": "execute_result"
    }
   ],
   "source": [
    "emb = one_hot @ C\n",
    "emb.shape"
   ]
  },
  {
   "cell_type": "code",
   "execution_count": 16,
   "id": "775acc33",
   "metadata": {},
   "outputs": [
    {
     "data": {
      "text/plain": [
       "tensor([-1.1258, -1.1524])"
      ]
     },
     "execution_count": 16,
     "metadata": {},
     "output_type": "execute_result"
    }
   ],
   "source": [
    "emb[0, 0, :]"
   ]
  },
  {
   "cell_type": "markdown",
   "id": "be8ba360",
   "metadata": {},
   "source": [
    "Ou seja, o embedding transformou cada um dos três inteiros representando os caracteres que antecedem a nossa previsão em um ponto de $\\mathbb{R}^2$. Por isso, para cada ponto de treino (total de 11615619), e para cada uma das três palavras nesse ponto de treino (total de 3) temos um elemento de $\\mathbb{R}^2$. Antes, com one-hot, tínhamos um elemento em $\\mathbb{R}^{42}$."
   ]
  },
  {
   "cell_type": "markdown",
   "id": "2fc7a24a",
   "metadata": {},
   "source": [
    "Existe uma maneira um pouco mais otimizada de fazer a operação acima, que não nos obriga a criar o tensor `one_hot`. Note que multiplicar `C` por um vetor de zeros e uns equivale a escolher uma linha de `C`. Podemos fazer isso diretamente:"
   ]
  },
  {
   "cell_type": "code",
   "execution_count": 17,
   "id": "82d9e041",
   "metadata": {},
   "outputs": [
    {
     "data": {
      "text/plain": [
       "torch.Size([11568668, 3, 2])"
      ]
     },
     "execution_count": 17,
     "metadata": {},
     "output_type": "execute_result"
    }
   ],
   "source": [
    "emb = C[Xtr]\n",
    "emb.shape"
   ]
  },
  {
   "cell_type": "code",
   "execution_count": 18,
   "id": "e1dadeac",
   "metadata": {},
   "outputs": [
    {
     "data": {
      "text/plain": [
       "tensor([-1.1258, -1.1524])"
      ]
     },
     "execution_count": 18,
     "metadata": {},
     "output_type": "execute_result"
    }
   ],
   "source": [
    "emb[0, 0, :]"
   ]
  },
  {
   "cell_type": "markdown",
   "id": "aa137937",
   "metadata": {},
   "source": [
    "Então agora conseguimos levar os caracteres em pontos de $\\mathbb{R}^2$. A partir daqui, podemos juntar os três caracteres de cada instância num único vetor de seis elementos:"
   ]
  },
  {
   "cell_type": "code",
   "execution_count": 19,
   "id": "71b592ee",
   "metadata": {},
   "outputs": [
    {
     "name": "stdout",
     "output_type": "stream",
     "text": [
      "tensor([-1.1258, -1.1524])\n",
      "tensor([ 1.1168, -0.2473])\n",
      "tensor([0.6408, 0.4412])\n",
      "tensor([-1.1258, -1.1524,  1.1168, -0.2473,  0.6408,  0.4412])\n"
     ]
    }
   ],
   "source": [
    "print(emb[2, 0, :])\n",
    "print(emb[2, 1, :])\n",
    "print(emb[2, 2, :])\n",
    "print(emb.view(-1, 6)[2])"
   ]
  },
  {
   "cell_type": "markdown",
   "id": "960ad411",
   "metadata": {},
   "source": [
    "## 2.3 Função-perda"
   ]
  },
  {
   "cell_type": "markdown",
   "id": "84fa0656",
   "metadata": {},
   "source": [
    "Como medimos o sucesso de uma previsão? Como já vimos antes, uma perda razoável nesse contexto é a entropia cruzada, que já derivamos como a log-verossimilhança de uma distribuição Multinomial.\n",
    "\n",
    "Suponha que o i-ésimo caractere a ser previsto seja descrito através de one-hot encoding na dimensão do nosso vocabulário ($K=42$), isto é, $y_i = (y_i^{[1]}, \\ldots, y_i^{[K]})=(0, \\ldots, 0, 1, 0, \\ldots, 0)$, e que as previsões da rede sejam $\\hat{p}_i = (\\hat{p}_i^{[1]}, \\ldots, \\hat{p}_i^{[K]})$, aonde $\\sum_{k=1}^K \\hat{p}_i^{[k]} =1$. Então, a perda é dada por\n",
    "$$\n",
    "L(\\hat{p}, y) = - \\frac{1}{n}\\sum_{i=1}^n\\left(\\sum_{k=1}^K y_i^{[k]} \\log \\hat{p}_i^{[k]}\\right) = - \\frac{1}{n}\\sum_{i=1}^n \\log \\hat{p}_i^{[k^*]},\n",
    "$$\n",
    "onde acima $k^*$ denota o caractere que de fato apareceu na $i$-ésima posição.\n",
    "\n",
    "Qual é a ideia? Se acertamos $\\hat{p}_i^{[k]}=1$ no caractere certo (quando $y_i^{[k]}=1$; ou seja, $\\hat{p}_i^{[k^*]}=1$), então a contribuição para a perda na instância $i$ é $0$. Mas na medida em que prevemos $\\hat{p}_i^{[k^*]} < 1$, pagamos um preço quanto menor for $\\hat{p}_i^{[k^*]}$."
   ]
  },
  {
   "cell_type": "markdown",
   "id": "26fb914d",
   "metadata": {},
   "source": [
    "Agora, vamos criar nossa camada escondida com uma ativação tanh, e depois converter os pesos finais em probabilidades via uma softmax:"
   ]
  },
  {
   "cell_type": "code",
   "execution_count": 20,
   "id": "ec1e0d6c",
   "metadata": {},
   "outputs": [
    {
     "data": {
      "text/plain": [
       "torch.Size([11568668, 100])"
      ]
     },
     "execution_count": 20,
     "metadata": {},
     "output_type": "execute_result"
    }
   ],
   "source": [
    "W1 = torch.randn((6, 100))\n",
    "b1 = torch.randn(100)\n",
    "h = torch.tanh(emb.view(-1, 6) @ W1 + b1)\n",
    "h.shape"
   ]
  },
  {
   "cell_type": "code",
   "execution_count": 21,
   "id": "01394986",
   "metadata": {},
   "outputs": [
    {
     "data": {
      "text/plain": [
       "torch.Size([11568668, 42])"
      ]
     },
     "execution_count": 21,
     "metadata": {},
     "output_type": "execute_result"
    }
   ],
   "source": [
    "W2 = torch.randn((100, vocab_size))\n",
    "b2 = torch.randn(vocab_size)\n",
    "logits = h @ W2 + b2\n",
    "logits.shape"
   ]
  },
  {
   "cell_type": "code",
   "execution_count": 22,
   "id": "878c8532",
   "metadata": {},
   "outputs": [
    {
     "data": {
      "text/plain": [
       "torch.Size([11568668, 42])"
      ]
     },
     "execution_count": 22,
     "metadata": {},
     "output_type": "execute_result"
    }
   ],
   "source": [
    "counts = logits.exp()\n",
    "prob = counts / counts.sum(1, keepdims=True)\n",
    "prob.shape"
   ]
  },
  {
   "cell_type": "code",
   "execution_count": 23,
   "id": "db8d5493",
   "metadata": {},
   "outputs": [
    {
     "data": {
      "text/plain": [
       "19.811634063720703"
      ]
     },
     "execution_count": 23,
     "metadata": {},
     "output_type": "execute_result"
    }
   ],
   "source": [
    "loss = -prob[torch.arange(Ytr.shape[0]), Ytr].log().mean()\n",
    "loss.item()"
   ]
  },
  {
   "cell_type": "markdown",
   "id": "81d14477",
   "metadata": {},
   "source": [
    "Ok, não parece ser uma perda boa! Se fizéssemos uma previsão uniforme de qual é o caractere seguinte, teríamos uma perda muito mais razoável, pois cada caractere visto seria previsto uniformemente com probabilidade 1/(tamanho do vocabulário), de modo que a perda média seria:"
   ]
  },
  {
   "cell_type": "code",
   "execution_count": 24,
   "id": "bdc41a81",
   "metadata": {},
   "outputs": [
    {
     "data": {
      "text/plain": [
       "3.7376697063446045"
      ]
     },
     "execution_count": 24,
     "metadata": {},
     "output_type": "execute_result"
    }
   ],
   "source": [
    "-torch.tensor(1/len(itos)).log().item()"
   ]
  },
  {
   "cell_type": "markdown",
   "id": "02a7454e",
   "metadata": {},
   "source": [
    "## 2.4 Treinando a rede neural\n",
    "\n",
    "O problema, é claro, é que ainda não treinamos nossa rede para aprender a prever caracteres direito. Vamos resolver isso agora. Em particular, vamos usar um embedding de dimensão 10 ao invés de 2."
   ]
  },
  {
   "cell_type": "code",
   "execution_count": 25,
   "id": "69c7bc8b",
   "metadata": {},
   "outputs": [],
   "source": [
    "vocab_size = len(itos)  # número de caracteres: 42\n",
    "n_embd = 10  # dimensionalidade do vetor de embedding\n",
    "n_hidden = 100  # número de neurônios na camada escondida\n",
    "\n",
    "torch.manual_seed(0)\n",
    "g = torch.Generator().manual_seed(0)\n",
    "C = torch.randn((vocab_size, n_embd), generator=g)\n",
    "W1 = torch.randn((n_embd * block_size, n_hidden), generator=g)\n",
    "b1 = torch.randn(n_hidden, generator=g)\n",
    "W2 = torch.randn((n_hidden, vocab_size), generator=g)\n",
    "b2 = torch.randn(vocab_size, generator=g)\n",
    "parameters = [C, W1, b1, W2, b2]"
   ]
  },
  {
   "cell_type": "markdown",
   "id": "d7057067",
   "metadata": {},
   "source": [
    "Podemos facilmente calcular o número total de parâmetros que temos:"
   ]
  },
  {
   "cell_type": "code",
   "execution_count": 26,
   "id": "fa1e009e",
   "metadata": {},
   "outputs": [
    {
     "data": {
      "text/plain": [
       "7762"
      ]
     },
     "execution_count": 26,
     "metadata": {},
     "output_type": "execute_result"
    }
   ],
   "source": [
    "(vocab_size * n_embd) + (n_embd * block_size * n_hidden) + (n_hidden) + (n_hidden * vocab_size) + (vocab_size)"
   ]
  },
  {
   "cell_type": "markdown",
   "id": "7b65e777",
   "metadata": {},
   "source": [
    "Alternativamente, podemos usar o seguinte código mais geral:"
   ]
  },
  {
   "cell_type": "code",
   "execution_count": 27,
   "id": "56143006",
   "metadata": {},
   "outputs": [
    {
     "data": {
      "text/plain": [
       "7762"
      ]
     },
     "execution_count": 27,
     "metadata": {},
     "output_type": "execute_result"
    }
   ],
   "source": [
    "sum(p.nelement() for p in parameters)"
   ]
  },
  {
   "cell_type": "markdown",
   "id": "9dcdcfff",
   "metadata": {},
   "source": [
    "Precisamos avisar ao PyTorch de que esses parâmetros têm gradientes, e que eles precisam ser calculados durante o treino."
   ]
  },
  {
   "cell_type": "code",
   "execution_count": 28,
   "id": "4095ffe2",
   "metadata": {},
   "outputs": [],
   "source": [
    "for p in parameters:\n",
    "    p.requires_grad = True"
   ]
  },
  {
   "cell_type": "markdown",
   "id": "e1af83fd",
   "metadata": {},
   "source": [
    "Pronto: podemos usar nosso código de treino. Como temos uma quantidade enorme de dados de treino, não faz sentido calcular o gradiente usando todos os pontos --- tomaria tempo demais. Ao invés, escolhemos alguns pontos aleatoriamente e o gradiente médio deles é que será usado para escolher a direção de descida. Aqui, usamos um tamanho de batch de 32."
   ]
  },
  {
   "cell_type": "code",
   "execution_count": 29,
   "id": "7f267424",
   "metadata": {},
   "outputs": [
    {
     "name": "stdout",
     "output_type": "stream",
     "text": [
      "      0/ 100000: 21.1271\n",
      "  10000/ 100000: 2.0981\n",
      "  20000/ 100000: 2.1155\n",
      "  30000/ 100000: 2.3727\n",
      "  40000/ 100000: 1.8811\n",
      "  50000/ 100000: 1.6864\n",
      "  60000/ 100000: 1.9813\n",
      "  70000/ 100000: 2.1054\n",
      "  80000/ 100000: 1.6578\n",
      "  90000/ 100000: 1.6502\n"
     ]
    }
   ],
   "source": [
    "stepi = []\n",
    "lossi = []\n",
    "\n",
    "max_steps = 100000\n",
    "batch_size = 32\n",
    "\n",
    "for i in range(max_steps):\n",
    "  \n",
    "    # batch: 32 números aleatórios entre 0 e n_tr = 11615619\n",
    "    ix = torch.randint(0, Xtr.shape[0], (batch_size,))\n",
    "    Xb, Yb = Xtr[ix], Ytr[ix]\n",
    "\n",
    "    # forward pass\n",
    "    emb = C[Xb] # embed os caracateres num vetor (batch_size, block_size, n_embd) = (32, 3, 10)\n",
    "    embcat = emb.view(-1, n_embd * block_size)  # concatenação das últimas duas dimensões\n",
    "    hpreact = embcat @ W1 + b1  # transformação afim\n",
    "    h = torch.tanh(hpreact) # camada escondida: (32, 200)\n",
    "    logits = h @ W2 + b2 # output: (32, 44)\n",
    "    loss = F.cross_entropy(logits, Yb)  # função-perda\n",
    "\n",
    "    # backward pass\n",
    "    for p in parameters:\n",
    "        p.grad = None\n",
    "    loss.backward()\n",
    "\n",
    "    # update\n",
    "    #lr = lrs[i]\n",
    "    lr = 0.1 if i < 80000 else 0.01  # decaimento da learning rate\n",
    "    for p in parameters:\n",
    "        p.data += -lr * p.grad\n",
    "\n",
    "    # stats\n",
    "    if i % 10000 == 0:\n",
    "        print(f'{i:7d}/{max_steps:7d}: {loss.item():.4f}')\n",
    "    stepi.append(i)\n",
    "    lossi.append(loss.log10().item())"
   ]
  },
  {
   "cell_type": "markdown",
   "id": "0a44f1f4",
   "metadata": {},
   "source": [
    "Podemos plotar o gráfico da perda ao longo do tempo. Mas note que a perda aqui está em escala logarítmica (`loss.log10()`) e que estamos plotando a perda em cada batch, que é aleatório, então esperaríamos algum ruído por conta dos 32 exemplos escolhidos em cada batch."
   ]
  },
  {
   "cell_type": "code",
   "execution_count": 30,
   "id": "812f57f7",
   "metadata": {},
   "outputs": [
    {
     "data": {
      "text/plain": [
       "[<matplotlib.lines.Line2D at 0x152c257b0>]"
      ]
     },
     "execution_count": 30,
     "metadata": {},
     "output_type": "execute_result"
    },
    {
     "data": {
      "image/png": "[encoded data removed]",
      "text/plain": [
       "<Figure size 640x480 with 1 Axes>"
      ]
     },
     "metadata": {},
     "output_type": "display_data"
    }
   ],
   "source": [
    "plt.plot(stepi, lossi)"
   ]
  },
  {
   "cell_type": "markdown",
   "id": "1eab04d8",
   "metadata": {},
   "source": [
    "Para retirar o ruído devido ao minibatch, podemos olhar para a média ao longo de cada cem passos:"
   ]
  },
  {
   "cell_type": "code",
   "execution_count": 31,
   "id": "8a22c609",
   "metadata": {},
   "outputs": [
    {
     "data": {
      "text/plain": [
       "[<matplotlib.lines.Line2D at 0x152c85720>]"
      ]
     },
     "execution_count": 31,
     "metadata": {},
     "output_type": "execute_result"
    },
    {
     "data": {
      "image/png": "[encoded data removed]",
      "text/plain": [
       "<Figure size 640x480 with 1 Axes>"
      ]
     },
     "metadata": {},
     "output_type": "display_data"
    }
   ],
   "source": [
    "plt.plot(torch.tensor(lossi).view(100, 1000).mean(1))"
   ]
  },
  {
   "cell_type": "markdown",
   "id": "c4e90fc5",
   "metadata": {},
   "source": [
    "Além disso, podemos olhar para a perda no conjunto de treino todo:"
   ]
  },
  {
   "cell_type": "code",
   "execution_count": 32,
   "id": "501cafcd",
   "metadata": {},
   "outputs": [
    {
     "data": {
      "text/plain": [
       "tensor(1.9151, grad_fn=<NllLossBackward0>)"
      ]
     },
     "execution_count": 32,
     "metadata": {},
     "output_type": "execute_result"
    }
   ],
   "source": [
    "emb = C[Xtr] # (32, 3, 2)\n",
    "h = torch.tanh(emb.view(-1, n_embd * block_size) @ W1 + b1) # (32, 100)\n",
    "logits = h @ W2 + b2 # (32, 27)\n",
    "loss = F.cross_entropy(logits, Ytr)\n",
    "loss"
   ]
  },
  {
   "cell_type": "markdown",
   "id": "c991f2a2",
   "metadata": {},
   "source": [
    "É uma perda de treino muito melhor do que antes! Mas será que isso se deve a um possível overfit? Para isso, vamos olhar para a perda de validação:"
   ]
  },
  {
   "cell_type": "code",
   "execution_count": 33,
   "id": "74f80281",
   "metadata": {},
   "outputs": [
    {
     "data": {
      "text/plain": [
       "tensor(1.8830, grad_fn=<NllLossBackward0>)"
      ]
     },
     "execution_count": 33,
     "metadata": {},
     "output_type": "execute_result"
    }
   ],
   "source": [
    "emb = C[Xdev] # (32, 3, 2)\n",
    "h = torch.tanh(emb.view(-1, n_embd * block_size) @ W1 + b1) # (32, 100)\n",
    "logits = h @ W2 + b2 # (32, 27)\n",
    "loss = F.cross_entropy(logits, Ydev)\n",
    "loss"
   ]
  },
  {
   "cell_type": "markdown",
   "id": "3d166c08",
   "metadata": {},
   "source": [
    "Vamos interpretar esse valor: vimos que se escolhéssemos aleatoriamente um dos 42 caracteres, a perda média seria $-\\log(1/42) \\approx 3.7377$, ou seja estávamos escolhendo dentre $e^{3.7377} \\approx 42$ caracteres. Agora, a perda caiu para $1.8830$, então é como se, cada novo caractere fosse uniformemente escolhido dentre $e^{1.8830} \\approx 6.5$ caracteres! Parece uma boa redução.\n",
    "\n",
    "Finalmente, vamos ver se na prática estamos encontrando gerando texto mais razoável."
   ]
  },
  {
   "cell_type": "code",
   "execution_count": 34,
   "id": "667012fc",
   "metadata": {},
   "outputs": [
    {
     "name": "stdout",
     "output_type": "stream",
     "text": [
      "équeste sas palta. vico, e eceu que irado crite ou cetélizimpet, e, anos olhos do dos car, que lados, que bera de pancasa, esivarque não as e que empras na mino cordade, ré caso nem deira imporou sevam goposta. ques, dem-se tlasa de es, cunos que a todo a bando cronsa-se em fou volto sonchos eu a qu\n"
     ]
    }
   ],
   "source": [
    "g = torch.Generator().manual_seed(10)\n",
    "out = []\n",
    "context = [0] * block_size\n",
    "for i in range(300):\n",
    "    emb = C[torch.tensor([context])]\n",
    "    h = torch.tanh(emb.view(1, -1) @ W1 + b1)\n",
    "    logits = h @ W2 + b2\n",
    "    probs = F.softmax(logits, dim=1)\n",
    "    ix = torch.multinomial(probs, num_samples=1, generator=g).item()\n",
    "    context = context[1:] + [ix]\n",
    "    out.append(ix)\n",
    "    \n",
    "print(''.join(itos[i] for i in out))"
   ]
  },
  {
   "cell_type": "markdown",
   "id": "4c0603fb",
   "metadata": {},
   "source": [
    "Não parece um avanço óbvio em relação aos trigramas. Mas a vantagem dessa approach é que temos alguns ases na manga para melhorá-lo substancialmente."
   ]
  }
 ],
 "metadata": {
  "kernelspec": {
   "display_name": "Python 3 (ipykernel)",
   "language": "python",
   "name": "python3"
  },
  "language_info": {
   "codemirror_mode": {
    "name": "ipython",
    "version": 3
   },
   "file_extension": ".py",
   "mimetype": "text/x-python",
   "name": "python",
   "nbconvert_exporter": "python",
   "pygments_lexer": "ipython3",
   "version": "3.10.13"
  }
 },
 "nbformat": 4,
 "nbformat_minor": 5
}

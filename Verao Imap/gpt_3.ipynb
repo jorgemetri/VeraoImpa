{
 "cells": [
  {
   "cell_type": "markdown",
   "id": "e12e0d3f",
   "metadata": {},
   "source": [
    "# 3 - Resolvendo problemas na rede neural\n",
    "\n",
    "Nosso objetivo é usar redes neurais para gerar algo que se parece com português. Mais especificamente, algo que se pareça com um português específico --- aquele usado por Machado de Assis.\n",
    "\n",
    "O código desse notebook é adaptado do repositório `nn-zero-to-hero`, de Andrej Karpathy. Os notebooks correspondentes (em inglês) podem ser encontradas na seguinte URL: https://github.com/karpathy/nn-zero-to-hero/blob/master/lectures/makemore/.\n",
    "\n",
    "-------------------------------"
   ]
  },
  {
   "cell_type": "markdown",
   "id": "1a4bd972",
   "metadata": {},
   "source": [
    "Uma direção natural para melhorar nossa rede é adicionar mais camadas. Mas se começássemos a complicar o problema, seria difícil saber quais problemas existem no nosso modelo e que estão atrapalhando sua performance. Ao invés disso, vamos olhar com mais cuidado para alguns problemas que já estão patentes com uma camada."
   ]
  },
  {
   "cell_type": "markdown",
   "id": "75fe9c56",
   "metadata": {},
   "source": [
    "Vamos começar recuperando os resultados que obtivemos até aqui."
   ]
  },
  {
   "cell_type": "code",
   "execution_count": 1,
   "id": "be60c917",
   "metadata": {},
   "outputs": [],
   "source": [
    "import torch\n",
    "import torch.nn.functional as F\n",
    "import matplotlib.pyplot as plt\n",
    "%matplotlib inline\n",
    "\n",
    "with open(\"../data/gpt/processed/machado-all.txt\", \"r\") as f:\n",
    "    text = f.read()\n",
    "\n",
    "chars = sorted(list(set(text)))\n",
    "vocab_size = len(chars)\n",
    "stoi = { ch:i for i,ch in enumerate(chars) }\n",
    "itos = { i:ch for i,ch in enumerate(chars) }\n",
    "encode = lambda s: [stoi[c] for c in s] # encoder: entra string, saem inteiros\n",
    "decode = lambda l: ''.join([itos[i] for i in l]) # decoder: entram inteiros, sai uma string\n",
    "\n",
    "data = text\n",
    "\n",
    "block_size = 3\n",
    "\n",
    "def build_dataset(data):  \n",
    "    X, Y = [], []\n",
    "    context = [0] * block_size\n",
    "    for ch in data:\n",
    "        ix = stoi[ch]\n",
    "        X.append(context)\n",
    "        Y.append(ix)\n",
    "        context = context[1:] + [ix]\n",
    "    \n",
    "    X = torch.tensor(X)\n",
    "    Y = torch.tensor(Y)\n",
    "    return X, Y\n",
    "\n",
    "n1 = int(0.8*len(data))\n",
    "n2 = int(0.9*len(data))\n",
    "\n",
    "Xtr, Ytr = build_dataset(data[:n1])\n",
    "Xdev, Ydev = build_dataset(data[n1:n2])\n",
    "Xte, Yte = build_dataset(data[n2:])"
   ]
  },
  {
   "cell_type": "code",
   "execution_count": 2,
   "id": "8d7d0ab8",
   "metadata": {},
   "outputs": [
    {
     "name": "stdout",
     "output_type": "stream",
     "text": [
      "      0/ 100000: 21.1271\n",
      "  10000/ 100000: 2.0981\n",
      "  20000/ 100000: 2.1155\n",
      "  30000/ 100000: 2.3727\n",
      "  40000/ 100000: 1.8811\n",
      "  50000/ 100000: 1.6864\n",
      "  60000/ 100000: 1.9813\n",
      "  70000/ 100000: 2.1054\n",
      "  80000/ 100000: 1.6578\n",
      "  90000/ 100000: 1.6502\n"
     ]
    }
   ],
   "source": [
    "vocab_size = len(itos)  # número de caracteres: 27 (a, b, c..., z, .)\n",
    "n_embd = 10  # dimensionalidade do vetor de embedding\n",
    "n_hidden = 100  # número de neurônios na camada escondida\n",
    "\n",
    "torch.manual_seed(0)\n",
    "g = torch.Generator().manual_seed(0)\n",
    "C = torch.randn((vocab_size, n_embd), generator=g)\n",
    "W1 = torch.randn((n_embd * block_size, n_hidden), generator=g)\n",
    "b1 = torch.randn(n_hidden, generator=g)\n",
    "W2 = torch.randn((n_hidden, vocab_size), generator=g)\n",
    "b2 = torch.randn(vocab_size, generator=g)\n",
    "parameters = [C, W1, b1, W2, b2]\n",
    "\n",
    "for p in parameters:\n",
    "    p.requires_grad = True\n",
    "    \n",
    "stepi = []\n",
    "lossi = []\n",
    "\n",
    "max_steps = 100000\n",
    "batch_size = 32\n",
    "\n",
    "for i in range(max_steps):\n",
    "  \n",
    "    # minibatch: 32 números aleatórios entre 0 e n_tr = 182625\n",
    "    ix = torch.randint(0, Xtr.shape[0], (batch_size,))\n",
    "    Xb, Yb = Xtr[ix], Ytr[ix]\n",
    "\n",
    "    # forward pass\n",
    "    emb = C[Xb] # embed os caracateres num vetor (batch_size, block_size, n_embd) = (32, 3, 10)\n",
    "    embcat = emb.view(-1, n_embd * block_size)  # concatenação das últimas duas dimensões\n",
    "    hpreact = embcat @ W1 + b1  # transformação afim\n",
    "    h = torch.tanh(hpreact) # camada escondida: (32, 200)\n",
    "    logits = h @ W2 + b2 # output: (32, 27)\n",
    "    loss = F.cross_entropy(logits, Yb)  # função-perda\n",
    "\n",
    "    # backward pass\n",
    "    for p in parameters:\n",
    "        p.grad = None\n",
    "    loss.backward()\n",
    "\n",
    "    # update\n",
    "    #lr = lrs[i]\n",
    "    lr = 0.1 if i < 80000 else 0.01  # decaimento da learning rate\n",
    "    for p in parameters:\n",
    "        p.data += -lr * p.grad\n",
    "\n",
    "    # stats\n",
    "    if i % 10000 == 0:\n",
    "        print(f'{i:7d}/{max_steps:7d}: {loss.item():.4f}')\n",
    "    stepi.append(i)\n",
    "    lossi.append(loss.log10().item())"
   ]
  },
  {
   "cell_type": "markdown",
   "id": "40d35402",
   "metadata": {},
   "source": [
    "## 3.1 Problema: perda inicial"
   ]
  },
  {
   "cell_type": "markdown",
   "id": "89dc5974",
   "metadata": {},
   "source": [
    "Olhando para o valor da nossa perda ao longo do treino, é fácil ver que ela começa de uma configuração inicial muito ruim. "
   ]
  },
  {
   "cell_type": "code",
   "execution_count": 3,
   "id": "7ebec9f1",
   "metadata": {},
   "outputs": [
    {
     "name": "stdout",
     "output_type": "stream",
     "text": [
      "0: 21.12712039721143\n",
      "10000: 2.098104924138757\n",
      "20000: 2.115535077020944\n",
      "30000: 2.37270911283154\n",
      "40000: 1.8810682603985047\n",
      "50000: 1.68644822293465\n",
      "60000: 1.9813057620693728\n",
      "70000: 2.105358900430593\n",
      "80000: 1.6577753017597554\n",
      "90000: 1.6502416193680276\n"
     ]
    }
   ],
   "source": [
    "for step, loss in list(zip(stepi, lossi))[::10000]:\n",
    "    print(f\"{step}: {10**loss}\")"
   ]
  },
  {
   "cell_type": "markdown",
   "id": "31374546",
   "metadata": {},
   "source": [
    "Sabemos que essa perda inicial é muito ruim não só porque logo em seguida ela fica melhor, mas porque já vimos que, se fizéssemos uma previsão uniforme de qual é o caractere seguinte, teríamos uma perda de:"
   ]
  },
  {
   "cell_type": "code",
   "execution_count": 4,
   "id": "56dc888d",
   "metadata": {},
   "outputs": [
    {
     "data": {
      "text/plain": [
       "tensor(3.7377)"
      ]
     },
     "execution_count": 4,
     "metadata": {},
     "output_type": "execute_result"
    }
   ],
   "source": [
    "-torch.tensor(1/len(itos)).log()"
   ]
  },
  {
   "cell_type": "markdown",
   "id": "612226cd",
   "metadata": {},
   "source": [
    "A nossa perda é muito maior porque, quando inicializamos o modelo ele acaba aleatoriamente dando muito mais peso para algumas sequências de caracteres espúrias. Exemplo:"
   ]
  },
  {
   "cell_type": "code",
   "execution_count": 5,
   "id": "dea01df1",
   "metadata": {},
   "outputs": [
    {
     "data": {
      "text/plain": [
       "(tensor([-11.2584, -11.5236,  -2.5058,  -4.3388,   8.4871,   6.9201,  -3.1601,\n",
       "         -21.1522,   3.2227, -12.6333,   3.4998,   3.0813,   1.1984,  12.3766,\n",
       "          11.1678,  -2.4728, -13.5265, -16.9593,   5.6665,   7.9351,   5.9884,\n",
       "         -15.5510,  -3.4136,  18.5301,   7.5019,  -5.8550,  -1.7340,   1.8348,\n",
       "          -1.7396,  -6.7875,   9.3826,   4.8887,  -6.7309,   8.7283,  10.5536,\n",
       "           1.7784,  -5.1807,  -3.0670, -15.8099,  17.0664,  -4.4622,   7.4402,\n",
       "          15.2098,  34.1050]),\n",
       " tensor([1.9903e-20, 1.5266e-20, 1.2593e-16, 2.0140e-17, 7.4865e-12, 1.5622e-12,\n",
       "         6.5456e-17, 1.0048e-24, 3.8726e-14, 5.0325e-21, 5.1090e-14, 3.3619e-14,\n",
       "         5.1149e-15, 3.6598e-10, 1.0926e-10, 1.3016e-16, 2.0600e-21, 6.6533e-23,\n",
       "         4.4597e-13, 4.3106e-12, 6.1532e-13, 2.7207e-22, 5.0800e-17, 1.7214e-07,\n",
       "         2.7952e-12, 4.4217e-18, 2.7247e-16, 9.6652e-15, 2.7094e-16, 1.7403e-18,\n",
       "         1.8331e-11, 2.0489e-13, 1.8415e-18, 9.5287e-12, 5.9120e-11, 9.1357e-15,\n",
       "         8.6777e-18, 7.1842e-17, 2.0999e-22, 3.9832e-08, 1.7802e-17, 2.6279e-12,\n",
       "         6.2216e-09, 1.0000e+00]),\n",
       " tensor(55.2572))"
      ]
     },
     "execution_count": 5,
     "metadata": {},
     "output_type": "execute_result"
    }
   ],
   "source": [
    "g = torch.Generator().manual_seed(0)\n",
    "logits = torch.randn(44, generator = g) * 10  # 26 letras + espaço\n",
    "probs = torch.softmax(logits, dim=0)\n",
    "loss = - probs[7].log() # a rede julga altamente improvável sortear h, e se h aparece a perda é enorme\n",
    "logits, probs, loss"
   ]
  },
  {
   "cell_type": "markdown",
   "id": "f2e19998",
   "metadata": {},
   "source": [
    "Note que a multiplicação por 10 acima tem o impacto de deixar a rede muito confiante numa resposta que, a não ser que déssemos muita sorte, está errada. Isso faz com que a perda seja muito grande. Uma saída é inicializar os parâmetros de modo a reduzir os logits da primeira camada, deixando-a um pouco menos confiante. Por exemplo, eis o que acontece se não multiplicarmos os logits por 10:"
   ]
  },
  {
   "cell_type": "code",
   "execution_count": 6,
   "id": "15572d85",
   "metadata": {},
   "outputs": [
    {
     "data": {
      "text/plain": [
       "(tensor([-1.1258, -1.1524, -0.2506, -0.4339,  0.8487,  0.6920, -0.3160, -2.1152,\n",
       "          0.3223, -1.2633,  0.3500,  0.3081,  0.1198,  1.2377,  1.1168, -0.2473,\n",
       "         -1.3527, -1.6959,  0.5667,  0.7935,  0.5988, -1.5551, -0.3414,  1.8530,\n",
       "          0.7502, -0.5855, -0.1734,  0.1835, -0.1740, -0.6787,  0.9383,  0.4889,\n",
       "         -0.6731,  0.8728,  1.0554,  0.1778, -0.5181, -0.3067, -1.5810,  1.7066,\n",
       "         -0.4462,  0.7440,  1.5210,  3.4105]),\n",
       " tensor([0.0034, 0.0033, 0.0081, 0.0068, 0.0245, 0.0209, 0.0076, 0.0013, 0.0145,\n",
       "         0.0030, 0.0149, 0.0142, 0.0118, 0.0361, 0.0320, 0.0082, 0.0027, 0.0019,\n",
       "         0.0185, 0.0232, 0.0191, 0.0022, 0.0074, 0.0668, 0.0222, 0.0058, 0.0088,\n",
       "         0.0126, 0.0088, 0.0053, 0.0268, 0.0171, 0.0053, 0.0251, 0.0301, 0.0125,\n",
       "         0.0062, 0.0077, 0.0022, 0.0577, 0.0067, 0.0220, 0.0479, 0.3170]),\n",
       " tensor(6.6745))"
      ]
     },
     "execution_count": 6,
     "metadata": {},
     "output_type": "execute_result"
    }
   ],
   "source": [
    "g = torch.Generator().manual_seed(0)\n",
    "logits = torch.randn(44, generator = g)  # 26 letras + espaço\n",
    "probs = torch.softmax(logits, dim=0)\n",
    "loss = - probs[7].log() # agora h não é mais tão improvável\n",
    "logits, probs, loss"
   ]
  },
  {
   "cell_type": "code",
   "execution_count": 7,
   "id": "9cf07ba3",
   "metadata": {},
   "outputs": [],
   "source": [
    "vocab_size = len(itos)  # número de caracteres: 27 (a, b, c..., z, .)\n",
    "n_embd = 10  # dimensionalidade do vetor de embedding\n",
    "n_hidden = 100  # número de neurônios na camada escondida\n",
    "\n",
    "torch.manual_seed(0)\n",
    "g = torch.Generator().manual_seed(0)\n",
    "C = torch.randn((vocab_size, n_embd),                  generator=g)\n",
    "W1 = torch.randn((n_embd * block_size, n_hidden),      generator=g)\n",
    "b1 = torch.randn(n_hidden,                             generator=g)\n",
    "# ------------------------------------------------------------------------\n",
    "W2 = torch.randn((n_hidden, vocab_size),               generator=g) * 0.01\n",
    "b2 = torch.randn(vocab_size,                           generator=g) * 0\n",
    "# ------------------------------------------------------------------------\n",
    "parameters = [C, W1, b1, W2, b2]\n",
    "\n",
    "for p in parameters:\n",
    "    p.requires_grad = True"
   ]
  },
  {
   "cell_type": "code",
   "execution_count": 8,
   "id": "d12278c0",
   "metadata": {},
   "outputs": [
    {
     "name": "stdout",
     "output_type": "stream",
     "text": [
      "      0/ 100000: 3.7460\n"
     ]
    }
   ],
   "source": [
    "max_steps = 100000\n",
    "batch_size = 32\n",
    "\n",
    "for i in range(max_steps):\n",
    "  \n",
    "    # minibatch: 32 números aleatórios entre 0 e n_tr = 182625\n",
    "    ix = torch.randint(0, Xtr.shape[0], (batch_size,))\n",
    "    Xb, Yb = Xtr[ix], Ytr[ix]\n",
    "\n",
    "    # forward pass\n",
    "    emb = C[Xb] # embed os caracateres num vetor (batch_size, block_size, n_embd) = (32, 3, 10)\n",
    "    embcat = emb.view(-1, n_embd * block_size)  # concatenação das últimas duas dimensões\n",
    "    hpreact = embcat @ W1 + b1  # transformação afim\n",
    "    h = torch.tanh(hpreact) # camada escondida: (32, 200)\n",
    "    logits = h @ W2 + b2 # output: (32, 27)\n",
    "    loss = F.cross_entropy(logits, Yb)  # função-perda\n",
    "\n",
    "    # backward pass\n",
    "    for p in parameters:\n",
    "        p.grad = None\n",
    "    loss.backward()\n",
    "\n",
    "    # update\n",
    "    #lr = lrs[i]\n",
    "    lr = 0.1 if i < 80000 else 0.01  # decaimento da learning rate\n",
    "    for p in parameters:\n",
    "        p.data += -lr * p.grad\n",
    "\n",
    "    # stats\n",
    "    if i % 10000 == 0:\n",
    "        print(f'{i:7d}/{max_steps:7d}: {loss.item():.4f}')\n",
    "    stepi.append(i)\n",
    "    lossi.append(loss.log10().item())\n",
    "    \n",
    "    break"
   ]
  },
  {
   "cell_type": "markdown",
   "id": "7659c715",
   "metadata": {},
   "source": [
    "Ótimo, já temos uma perda inicial muito melhor. Naturalmente se multiplicássemos `W2` por 0 teríamos exatamente $-\\log(1/44)=3.7842$; em geral evitamos fazer isso porque é útil quebrar a simetria entre os pesos das diferentes variáveis. A depender da arquitetura, pode acontecer que, se os pesos das variáveis começam iguais, eles serão iguais sempre."
   ]
  },
  {
   "cell_type": "markdown",
   "id": "b6bfa3be",
   "metadata": {},
   "source": [
    "Agora, vamos treinar as 100000 épocas e ver nosso resultado."
   ]
  },
  {
   "cell_type": "code",
   "execution_count": 9,
   "id": "35093168",
   "metadata": {},
   "outputs": [
    {
     "name": "stdout",
     "output_type": "stream",
     "text": [
      "      0/ 100000: 3.7460\n",
      "  10000/ 100000: 2.2105\n",
      "  20000/ 100000: 1.9254\n",
      "  30000/ 100000: 2.5038\n",
      "  40000/ 100000: 1.8675\n",
      "  50000/ 100000: 1.7017\n",
      "  60000/ 100000: 2.1290\n",
      "  70000/ 100000: 2.1391\n",
      "  80000/ 100000: 1.7443\n",
      "  90000/ 100000: 1.5623\n"
     ]
    }
   ],
   "source": [
    "vocab_size = len(itos)  # número de caracteres: 27 (a, b, c..., z, .)\n",
    "n_embd = 10  # dimensionalidade do vetor de embedding\n",
    "n_hidden = 100  # número de neurônios na camada escondida\n",
    "\n",
    "torch.manual_seed(0)\n",
    "g = torch.Generator().manual_seed(0)\n",
    "C = torch.randn((vocab_size, n_embd),                  generator=g)\n",
    "W1 = torch.randn((n_embd * block_size, n_hidden),      generator=g)\n",
    "b1 = torch.randn(n_hidden,                             generator=g)\n",
    "# ---------------------------------------------------------------------------------------------------------\n",
    "W2 = torch.randn((n_hidden, vocab_size),               generator=g) * 0.01\n",
    "b2 = torch.randn(vocab_size,                           generator=g) * 0\n",
    "# ---------------------------------------------------------------------------------------------------------\n",
    "parameters = [C, W1, b1, W2, b2]\n",
    "\n",
    "for p in parameters:\n",
    "    p.requires_grad = True\n",
    "\n",
    "max_steps = 100000\n",
    "batch_size = 32\n",
    "\n",
    "for i in range(max_steps):\n",
    "  \n",
    "    # minibatch: 32 números aleatórios entre 0 e n_tr = 182625\n",
    "    ix = torch.randint(0, Xtr.shape[0], (batch_size,))\n",
    "    Xb, Yb = Xtr[ix], Ytr[ix]\n",
    "\n",
    "    # forward pass\n",
    "    emb = C[Xb] # embed os caracateres num vetor (batch_size, block_size, n_embd) = (32, 3, 10)\n",
    "    embcat = emb.view(-1, n_embd * block_size)  # concatenação das últimas duas dimensões\n",
    "    hpreact = embcat @ W1 + b1  # transformação afim\n",
    "    h = torch.tanh(hpreact) # camada escondida: (32, 200)\n",
    "    logits = h @ W2 + b2 # output: (32, 27)\n",
    "    loss = F.cross_entropy(logits, Yb)  # função-perda\n",
    "\n",
    "    # backward pass\n",
    "    for p in parameters:\n",
    "        p.grad = None\n",
    "    loss.backward()\n",
    "\n",
    "    # update\n",
    "    #lr = lrs[i]\n",
    "    lr = 0.1 if i < 80000 else 0.01  # decaimento da learning rate\n",
    "    for p in parameters:\n",
    "        p.data += -lr * p.grad\n",
    "\n",
    "    # stats\n",
    "    if i % 10000 == 0:\n",
    "        print(f'{i:7d}/{max_steps:7d}: {loss.item():.4f}')\n",
    "    stepi.append(i)\n",
    "    lossi.append(loss.log10().item())"
   ]
  },
  {
   "cell_type": "markdown",
   "id": "58c3ded8",
   "metadata": {},
   "source": [
    "Vamos checar se a nossa perda de validação melhorou."
   ]
  },
  {
   "cell_type": "code",
   "execution_count": 10,
   "id": "6ff5aca9",
   "metadata": {},
   "outputs": [
    {
     "name": "stdout",
     "output_type": "stream",
     "text": [
      "train 1.8623498678207397\n",
      "val 1.8296575546264648\n"
     ]
    }
   ],
   "source": [
    "@torch.no_grad()\n",
    "def split_loss(split):\n",
    "    x, y = {'train': (Xtr, Ytr), 'val': (Xdev, Ydev), 'test': (Xte, Yte)}[split]\n",
    "    emb = C[x]\n",
    "    embcat = emb.view(-1, n_embd * block_size)\n",
    "    h = torch.tanh(embcat @ W1 + b1)\n",
    "    logits = h @ W2 + b2\n",
    "    loss = F.cross_entropy(logits, y)\n",
    "    print(split, loss.item())\n",
    "\n",
    "split_loss('train')\n",
    "split_loss('val')"
   ]
  },
  {
   "cell_type": "markdown",
   "id": "eadcaecf",
   "metadata": {},
   "source": [
    "Antes estava em 1.88; agora caiu para 1.83. É uma melhora significativa considerando o pouco trabalho que deu."
   ]
  },
  {
   "cell_type": "markdown",
   "id": "fcfa2bb6",
   "metadata": {},
   "source": [
    "Moral: uma boa inicialização é importante. Como estamos otimizando uma função não-convexa usando descida de gradiente, o lugar de onde começamos pode importar. No nosso caso, o sorteio de pesos aleatórios é feito de tal maneira que ele inicialmente dá muita confiança ao modelo nas previsões erradas. Uma mudança de inicialização significa que começamos de uma previsão melhor, então o modelo não precisa gastar muitas épocas para aprender a reverter essa inicialização ruim."
   ]
  },
  {
   "cell_type": "markdown",
   "id": "b46c57ec",
   "metadata": {},
   "source": [
    "## 3.2 Problema: saturação das ativações; gradientes dissipados ou explosivos"
   ]
  },
  {
   "cell_type": "markdown",
   "id": "9fd5fe84",
   "metadata": {},
   "source": [
    "Resolvido o problema em `logits`, nós agora vamos olhar para um problema com a ativação tanh. Essa é uma função que pega o tensor `hpreact` e coloca seus valores entre -1 e 1.\n",
    "\n",
    "<img src=\"https://upload.wikimedia.org/wikipedia/commons/thumb/8/87/Hyperbolic_Tangent.svg/2560px-Hyperbolic_Tangent.svg.png\" width=\"50%\" height=\"50%\">\n",
    "\n",
    "Lembrando que\n",
    "$$\n",
    "\\tanh'(x)=(1-\\tanh(x)^2),\n",
    "$$\n",
    "se os valores acabam perto de -1 ou 1, o gradiente é zero e a rede pára de aprender algo nesses neurônios. "
   ]
  },
  {
   "cell_type": "code",
   "execution_count": 11,
   "id": "cb545595",
   "metadata": {},
   "outputs": [
    {
     "data": {
      "text/plain": [
       "torch.Size([32, 100])"
      ]
     },
     "execution_count": 11,
     "metadata": {},
     "output_type": "execute_result"
    }
   ],
   "source": [
    "h.shape"
   ]
  },
  {
   "cell_type": "code",
   "execution_count": 12,
   "id": "868c450f",
   "metadata": {},
   "outputs": [
    {
     "data": {
      "text/plain": [
       "torch.Size([3200])"
      ]
     },
     "execution_count": 12,
     "metadata": {},
     "output_type": "execute_result"
    }
   ],
   "source": [
    "h.view(-1).shape"
   ]
  },
  {
   "cell_type": "code",
   "execution_count": 13,
   "id": "06e66c0c",
   "metadata": {},
   "outputs": [
    {
     "data": {
      "image/png": "[encoded data removed]",
      "text/plain": [
       "<Figure size 640x480 with 1 Axes>"
      ]
     },
     "metadata": {},
     "output_type": "display_data"
    }
   ],
   "source": [
    "plt.hist(h.view(-1).tolist(), 50);"
   ]
  },
  {
   "cell_type": "markdown",
   "id": "ca35ac6c",
   "metadata": {},
   "source": [
    "Uma outra maneira de visualizar o problema é olhando para quais dos 200 neurônios têm valor acima de 0.99 ou abaixo de -0.99 (em branco, abaixo)."
   ]
  },
  {
   "cell_type": "code",
   "execution_count": 14,
   "id": "1156c892",
   "metadata": {},
   "outputs": [
    {
     "data": {
      "text/plain": [
       "<matplotlib.image.AxesImage at 0x12c169ea0>"
      ]
     },
     "execution_count": 14,
     "metadata": {},
     "output_type": "execute_result"
    },
    {
     "data": {
      "image/png": "[encoded data removed]",
      "text/plain": [
       "<Figure size 2000x1000 with 1 Axes>"
      ]
     },
     "metadata": {},
     "output_type": "display_data"
    }
   ],
   "source": [
    "plt.figure(figsize=(20, 10))\n",
    "plt.imshow(h.abs() > 0.99, cmap='gray', interpolation='nearest')"
   ]
  },
  {
   "cell_type": "markdown",
   "id": "4c43af15",
   "metadata": {},
   "source": [
    "Pelo menos, nenhuma coluna acima (i.e., um neurônio) parece estar com ativação acima de 0.99 ou abaixo de -0.99 para todos os exemplos. Esse seria o caso de um \"neurônio morto\", ou seja, ele nunca aprenderia nada porque tem gradiente praticamente zero em todos os casos, ou seja, a descida de gradiente manterá esse neurônio do jeito que está. Esse é um risco das funções de ativação que têm grandes regiões planas (e.g., sigmóide, tanh, relu)."
   ]
  },
  {
   "cell_type": "markdown",
   "id": "40a41060",
   "metadata": {},
   "source": [
    "Como resolver esse problema? Note que `hpreact = embcat @ W1 + b1`, e `embcat` vem de `C[Xb]`, ou seja, são entradas Normais de média zero e variância um. O problema é que multiplicação por `W1` faz com que a variância de `hpreact` seja muito grande. Solução: inicializar `W1` e `b1` para serem menores."
   ]
  },
  {
   "cell_type": "code",
   "execution_count": 15,
   "id": "df02ec35",
   "metadata": {},
   "outputs": [
    {
     "name": "stdout",
     "output_type": "stream",
     "text": [
      "      0/ 100000: 3.7402\n"
     ]
    }
   ],
   "source": [
    "vocab_size = len(itos)  # número de caracteres: 27 (a, b, c..., z, .)\n",
    "n_embd = 10  # dimensionalidade do vetor de embedding\n",
    "n_hidden = 100  # número de neurônios na camada escondida\n",
    "\n",
    "torch.manual_seed(0)\n",
    "g = torch.Generator().manual_seed(0)\n",
    "C = torch.randn((vocab_size, n_embd),                  generator=g)\n",
    "# ---------------------------------------------------------------------------------------------------------\n",
    "W1 = torch.randn((n_embd * block_size, n_hidden),      generator=g) * 0.1\n",
    "b1 = torch.randn(n_hidden,                             generator=g) * 0\n",
    "W2 = torch.randn((n_hidden, vocab_size),               generator=g) * 0.01\n",
    "b2 = torch.randn(vocab_size,                           generator=g) * 0\n",
    "# ---------------------------------------------------------------------------------------------------------\n",
    "parameters = [C, W1, b1, W2, b2]\n",
    "\n",
    "for p in parameters:\n",
    "    p.requires_grad = True\n",
    "\n",
    "max_steps = 100000\n",
    "batch_size = 32\n",
    "\n",
    "for i in range(max_steps):\n",
    "  \n",
    "    # minibatch: 32 números aleatórios entre 0 e n_tr = 182625\n",
    "    ix = torch.randint(0, Xtr.shape[0], (batch_size,))\n",
    "    Xb, Yb = Xtr[ix], Ytr[ix]\n",
    "\n",
    "    # forward pass\n",
    "    emb = C[Xb] # embed os caracateres num vetor (batch_size, block_size, n_embd) = (32, 3, 10)\n",
    "    embcat = emb.view(-1, n_embd * block_size)  # concatenação das últimas duas dimensões\n",
    "    hpreact = embcat @ W1 + b1  # transformação afim\n",
    "    h = torch.tanh(hpreact) # camada escondida: (32, 200)\n",
    "    logits = h @ W2 + b2 # output: (32, 27)\n",
    "    loss = F.cross_entropy(logits, Yb)  # função-perda\n",
    "\n",
    "    # backward pass\n",
    "    for p in parameters:\n",
    "        p.grad = None\n",
    "    loss.backward()\n",
    "\n",
    "    # update\n",
    "    #lr = lrs[i]\n",
    "    lr = 0.1 if i < 80000 else 0.01  # decaimento da learning rate\n",
    "    for p in parameters:\n",
    "        p.data += -lr * p.grad\n",
    "\n",
    "    # stats\n",
    "    if i % 10000 == 0:\n",
    "        print(f'{i:7d}/{max_steps:7d}: {loss.item():.4f}')\n",
    "    stepi.append(i)\n",
    "    lossi.append(loss.log10().item())\n",
    "    \n",
    "    break"
   ]
  },
  {
   "cell_type": "code",
   "execution_count": 16,
   "id": "977da3dd",
   "metadata": {},
   "outputs": [
    {
     "data": {
      "image/png": "[encoded data removed]",
      "text/plain": [
       "<Figure size 640x480 with 1 Axes>"
      ]
     },
     "metadata": {},
     "output_type": "display_data"
    }
   ],
   "source": [
    "plt.hist(h.view(-1).tolist(), 50);"
   ]
  },
  {
   "cell_type": "code",
   "execution_count": 17,
   "id": "0d9fc5ac",
   "metadata": {},
   "outputs": [
    {
     "data": {
      "text/plain": [
       "<matplotlib.image.AxesImage at 0x12c2cf7c0>"
      ]
     },
     "execution_count": 17,
     "metadata": {},
     "output_type": "execute_result"
    },
    {
     "data": {
      "image/png": "[encoded data removed]",
      "text/plain": [
       "<Figure size 2000x1000 with 1 Axes>"
      ]
     },
     "metadata": {},
     "output_type": "display_data"
    }
   ],
   "source": [
    "plt.figure(figsize=(20, 10))\n",
    "plt.imshow(h.abs() > 0.99, cmap='gray', interpolation='nearest')"
   ]
  },
  {
   "cell_type": "markdown",
   "id": "16065e5c",
   "metadata": {},
   "source": [
    "Vamos ver se essa mudança se traduz em alguma melhora para a rede."
   ]
  },
  {
   "cell_type": "code",
   "execution_count": 18,
   "id": "2606e131",
   "metadata": {},
   "outputs": [
    {
     "name": "stdout",
     "output_type": "stream",
     "text": [
      "Número de parâmetros: 7762\n",
      "      0/ 100000: 3.7415\n",
      "  10000/ 100000: 2.1436\n",
      "  20000/ 100000: 1.8962\n",
      "  30000/ 100000: 2.3563\n",
      "  40000/ 100000: 1.7643\n",
      "  50000/ 100000: 1.6293\n",
      "  60000/ 100000: 1.8460\n",
      "  70000/ 100000: 2.0908\n",
      "  80000/ 100000: 1.6093\n",
      "  90000/ 100000: 1.5143\n"
     ]
    }
   ],
   "source": [
    "vocab_size = len(itos)  # número de caracteres: 27 (a, b, c..., z, .)\n",
    "n_embd = 10  # dimensionalidade do vetor de embedding\n",
    "n_hidden = 100  # número de neurônios na camada escondida\n",
    "\n",
    "torch.manual_seed(0)\n",
    "g = torch.Generator().manual_seed(0)\n",
    "C = torch.randn((vocab_size, n_embd),                  generator=g)\n",
    "# ---------------------------------------------------------------------------------------------------------\n",
    "W1 = torch.randn((n_embd * block_size, n_hidden),      generator=g) * 0.5  # para não ter todos não-saturados\n",
    "b1 = torch.randn(n_hidden,                             generator=g) * 0\n",
    "W2 = torch.randn((n_hidden, vocab_size),               generator=g) * 0.01\n",
    "b2 = torch.randn(vocab_size,                           generator=g) * 0\n",
    "# ---------------------------------------------------------------------------------------------------------\n",
    "parameters = [C, W1, b1, W2, b2]\n",
    "print(f\"Número de parâmetros: {sum(p.nelement() for p in parameters)}\")\n",
    "\n",
    "for p in parameters:\n",
    "    p.requires_grad = True\n",
    "\n",
    "max_steps = 100000\n",
    "batch_size = 32\n",
    "\n",
    "for i in range(max_steps):\n",
    "  \n",
    "    # minibatch: 32 números aleatórios entre 0 e n_tr = 182625\n",
    "    ix = torch.randint(0, Xtr.shape[0], (batch_size,))\n",
    "    Xb, Yb = Xtr[ix], Ytr[ix]\n",
    "\n",
    "    # forward pass\n",
    "    emb = C[Xb] # embed os caracateres num vetor (batch_size, block_size, n_embd) = (32, 3, 10)\n",
    "    embcat = emb.view(-1, n_embd * block_size)  # concatenação das últimas duas dimensões\n",
    "    hpreact = embcat @ W1 + b1  # transformação afim\n",
    "    h = torch.tanh(hpreact) # camada escondida: (32, 200)\n",
    "    logits = h @ W2 + b2 # output: (32, 27)\n",
    "    loss = F.cross_entropy(logits, Yb)  # função-perda\n",
    "\n",
    "    # backward pass\n",
    "    for p in parameters:\n",
    "        p.grad = None\n",
    "    loss.backward()\n",
    "\n",
    "    # update\n",
    "    #lr = lrs[i]\n",
    "    lr = 0.1 if i < 80000 else 0.01  # decaimento da learning rate\n",
    "    for p in parameters:\n",
    "        p.data += -lr * p.grad\n",
    "\n",
    "    # stats\n",
    "    if i % 10000 == 0:\n",
    "        print(f'{i:7d}/{max_steps:7d}: {loss.item():.4f}')\n",
    "    stepi.append(i)\n",
    "    lossi.append(loss.log10().item())"
   ]
  },
  {
   "cell_type": "code",
   "execution_count": 19,
   "id": "d7a3b11c",
   "metadata": {},
   "outputs": [
    {
     "name": "stdout",
     "output_type": "stream",
     "text": [
      "train 1.8287471532821655\n",
      "val 1.7959297895431519\n"
     ]
    }
   ],
   "source": [
    "split_loss('train')\n",
    "split_loss('val')"
   ]
  },
  {
   "cell_type": "markdown",
   "id": "662b5562",
   "metadata": {},
   "source": [
    "Ok, mais uma melhora! Fomos de 1.83 para 1.80 através de uma escolha mais apropriada de inicialização."
   ]
  },
  {
   "cell_type": "markdown",
   "id": "f7394d4c",
   "metadata": {},
   "source": [
    "Aqui, o benefício de uma inicialização melhor é limitado. Mas na medida em que formos usar redes mais profundas, uma inicialização precisa é essencial. Se os gradientes ficarem muito pequenos ou grandes rapidamente, a regra da cadeia passa a ter caráter explosivo ou implosivo. \n",
    "\n",
    "Nesse sentido, ter uma maneira apropriada de determinar como os parâmetros devem ser inicializados é essencial. "
   ]
  },
  {
   "cell_type": "markdown",
   "id": "382e5285",
   "metadata": {},
   "source": [
    "Existem várias sugestões na literatura sobre como escolher esses valores ao invés de tentativa e erro, como fizemos acima. A lógica é garantir que, apesar das multiplicações dos embeddings pelas transformações lineares, elas nunca ficarão muito grandes ou muito pequenas. Posto de outra maneira, queremos garantir que o desvio-padrão antes e depois das transformações lineares mantem certa regularidade."
   ]
  },
  {
   "cell_type": "code",
   "execution_count": 20,
   "id": "163f62fd",
   "metadata": {},
   "outputs": [
    {
     "name": "stdout",
     "output_type": "stream",
     "text": [
      "tensor(-0.0004) tensor(0.9914)\n",
      "tensor(0.0070) tensor(3.0883)\n"
     ]
    },
    {
     "data": {
      "image/png": "[encoded data removed]",
      "text/plain": [
       "<Figure size 2000x500 with 2 Axes>"
      ]
     },
     "metadata": {},
     "output_type": "display_data"
    }
   ],
   "source": [
    "x = torch.randn(1000, 10)\n",
    "w = torch.randn(10, 200)\n",
    "y = x @ w\n",
    "print(x.mean(), x.std())\n",
    "print(y.mean(), y.std())\n",
    "plt.figure(figsize=(20, 5))\n",
    "plt.subplot(121)\n",
    "plt.hist(x.view(-1).tolist(), 50, range=[-15, 15], density=True);\n",
    "plt.subplot(122)\n",
    "plt.hist(y.view(-1).tolist(), 50, range=[-15, 15], density=True);"
   ]
  },
  {
   "cell_type": "markdown",
   "id": "5fe8252f",
   "metadata": {},
   "source": [
    "Matematicamente, se $w = (w_1, \\ldots, w_m) \\stackrel{\\text{iid}}{\\sim} N(0, I)$ e $x = (x_1, \\ldots, x_m) \\sim N(0, I)$, então \n",
    "$$\n",
    "\\mathbb{V}[w^Tx] = \\mathbb{V}\\left[\\sum_{i=1}^m w_i x_i\\right] = \\sum_{i=1}^m \\mathbb{V}[w_ix_i]= \\sum_{i=1}^m \\mathbb{V}[w_i]\\mathbb{V}[x_i] = m.\n",
    "$$\n",
    "Ou seja, a amostra da esquerda tem desvio-padrão 1, mas a da direita já tem desvio-padrão $\\sqrt{m} = \\sqrt{10}\\approx 3.16$. Precisamos escalonar os parâmetros em `w` por $1/\\sqrt{m}$ para o resultado do produto reter desvio-padrão igual a 1."
   ]
  },
  {
   "cell_type": "code",
   "execution_count": 21,
   "id": "eabbc623",
   "metadata": {},
   "outputs": [
    {
     "name": "stdout",
     "output_type": "stream",
     "text": [
      "tensor(0.0089) tensor(1.0091)\n",
      "tensor(0.0046) tensor(0.9888)\n"
     ]
    }
   ],
   "source": [
    "x = torch.randn(1000, 10)\n",
    "w = torch.randn(10, 200) / (10**0.5)\n",
    "y = x @ w\n",
    "print(x.mean(), x.std())\n",
    "print(y.mean(), y.std())"
   ]
  },
  {
   "cell_type": "markdown",
   "id": "c12fb05d",
   "metadata": {},
   "source": [
    "Se o passo seguinte à transformação linear é uma função de ativação, em geral queremos levá-la em conta na hora de inicializar os parâmetros. Por exemplo, uma função de ativação relu costuma descartar metade das amostras:\n",
    "\n",
    "<img src=\"https://machinelearningmastery.com/wp-content/uploads/2018/10/Line-Plot-of-Rectified-Linear-Activation-for-Negative-and-Positive-Inputs.png\" width=\"50%\">\n",
    "\n",
    "Por isso, se o passo seguinte à transformação linear é uma ativação relu, nós consideramos a correção como sendo $\\sqrt{2/m}$, já que a variância é reduzida a aproximadamente metade. Esse escalonamento em função da ativação posterior é chamado de \"ganho\". Essa página agrega vários valores para diferentes ativações: https://pytorch.org/docs/stable/nn.init.html."
   ]
  },
  {
   "cell_type": "markdown",
   "id": "b708673f",
   "metadata": {},
   "source": [
    "No caso de tanh, há um ganho de 5/3, que corrige o fato de que a ativação tanh comprime valores em $\\mathbb{R}$ para valores em $[-1, 1]$ então, assim como a relu, o ganho age para compensar essa redução de variância. Isso vem de $\\mathbb{V}[\\tanh(Z)] = \\int_{-\\infty}^{\\infty} (\\tanh x)^2 \\cdot \\frac{e^{-\\frac{x^2}{2}}}{\\sqrt{2\\pi}} \\approx 0.39$, então o desvio-padrão é $\\sqrt{0.39} \\approx 0.63 \\approx 3/5$."
   ]
  },
  {
   "cell_type": "code",
   "execution_count": 22,
   "id": "9c4f38e8",
   "metadata": {},
   "outputs": [
    {
     "name": "stdout",
     "output_type": "stream",
     "text": [
      "tensor(-0.0077) tensor(0.9968)\n",
      "tensor(-0.0005) tensor(1.0224)\n"
     ]
    }
   ],
   "source": [
    "x = torch.randn(1000, 10)\n",
    "w = torch.randn(10, 200) / (10**0.5)\n",
    "y = torch.tanh(x @ w) * (5/3)\n",
    "print(x.mean(), x.std())\n",
    "print(y.mean(), y.std())"
   ]
  },
  {
   "cell_type": "markdown",
   "id": "018f49a2",
   "metadata": {},
   "source": [
    "Ou seja, uma escolha mais rigorosa de inicialização do que a que encontramos acima para `W1` seria:"
   ]
  },
  {
   "cell_type": "code",
   "execution_count": 23,
   "id": "b5b31b83",
   "metadata": {},
   "outputs": [],
   "source": [
    "vocab_size = len(itos)  # número de caracteres: 27 (a, b, c..., z, .)\n",
    "n_embd = 10  # dimensionalidade do vetor de embedding\n",
    "n_hidden = 100  # número de neurônios na camada escondida\n",
    "\n",
    "torch.manual_seed(0)\n",
    "g = torch.Generator().manual_seed(0)\n",
    "C = torch.randn((vocab_size, n_embd),                  generator=g)\n",
    "# ---------------------------------------------------------------------------------------------------------\n",
    "W1 = torch.randn((n_embd * block_size, n_hidden),      generator=g) * (5/3)/( (n_embd * block_size) ** 0.5)\n",
    "# ---------------------------------------------------------------------------------------------------------\n",
    "b1 = torch.randn(n_hidden,                             generator=g) * 0\n",
    "W2 = torch.randn((n_hidden, vocab_size),               generator=g) * 0.01\n",
    "b2 = torch.randn(vocab_size,                           generator=g) * 0\n",
    "parameters = [C, W1, b1, W2, b2]"
   ]
  },
  {
   "cell_type": "markdown",
   "id": "592c3f42",
   "metadata": {},
   "source": [
    "Isto é, ao invés do 0.2 que usamos antes, a literatura sugere $\\frac{5}{3} \\cdot \\frac{1}{\\sqrt{30}} \\approx 0.3$. Perto o suficiente!"
   ]
  },
  {
   "cell_type": "markdown",
   "id": "c09742f6",
   "metadata": {},
   "source": [
    "## 3.3 Solução geral: batchnorm"
   ]
  },
  {
   "cell_type": "markdown",
   "id": "43c95029",
   "metadata": {},
   "source": [
    "Para os dois problemas acima, nós os resolvemos considerando cuidadosamente como iniciar os parâmetros. Vimos que, se os parâmetros não estiverem bem inicializados, é possível que o problema se agrave com o passar das camadas, o que torna essa questão particularmente perniciosa para arquiteturas mais profundas, tais como quereremos considerar daqui a pouco. Mesmo assim, a nossa solução é relativamente delicada e manual. Seria melhor ter uma maneira de garantir que os gradientes não explodirão sem precisar fazer muitos experimentos.\n",
    "\n",
    "Esse problema é uma área ativa de pesquisa. Várias das melhores soluções que temos hoje foram desenvolvidas recentemente:\n",
    "- conexões residuais\n",
    "- otimizadores melhores\n",
    "- camadas de normalização (incluindo batchnorm)\n",
    "\n",
    "Vamos olhar para batchnorm, uma das maneiras mais utilizadas para se estabilizar o treino de redes neurais. Veremos as outras ideias posteriormente."
   ]
  },
  {
   "cell_type": "markdown",
   "id": "54ce7b02",
   "metadata": {},
   "source": [
    "Ideia: normalizar os batches antes de eles passarem pela ativação. Isto é, subtraímos a média e dividimos pelo desvio-padrão; ambas as operações são diferenciáveis! Isto é, transformamos um batch $\\{x_1, \\ldots, x_B\\}$, em $\\{\\tilde{x}_1, \\ldots, \\tilde{x}_B\\}$ via\n",
    "\n",
    "- média do batch: $\\mu_B = \\frac{1}{B}\\sum_{b=1}^B x_b$\n",
    "- variância do batch: $\\sigma^2_B = \\frac{1}{B}\\sum_{b=1}^B (x_b - \\mu_B)^2$\n",
    "- normalização: $\\tilde{x}_b = \\frac{x_b - \\mu_B}{\\sqrt{\\sigma^2_B + \\varepsilon}}$\n",
    "- ajuste de escala: $\\hat{x}_b = \\gamma \\cdot \\tilde{x}_b + \\beta \\equiv \\text{BN}_{\\gamma, \\beta}(x_b)$\n",
    "\n",
    "Acima, os parâmetros $\\gamma$ e $\\beta$ são aprendidos e comuns a todos os batches e servem para dar mais liberdade ao ajuste de normalização; $\\varepsilon$ é um número pequeno que evita problemas quando $\\sigma^2_B$ é muito pequeno (vamos ignorá-lo no nosso caso). Para que ajustar a escala se acabamos de normalizar a amostra? Em alguns casos isso pode ser vantajoso para a ativação que vem em seguida, e a normalização permite que todos os batches estejam numa mesma escala a ser alterada; sem a normalização, cada batch teria uma média que depende de uma interação complicada das camadas anteriores. A normalização reduz o efeito do que veio antes, e permite que a escolha de escala seja feita para todos os batches."
   ]
  },
  {
   "cell_type": "markdown",
   "id": "6b8e41d7",
   "metadata": {},
   "source": [
    "Note que agora o parâmetro de viés da primeira camada, `b1`, passa a ser desnecessário, porque a camada de batchnorm já tem expressividade para adicionar um viés a todas as entradas. "
   ]
  },
  {
   "cell_type": "code",
   "execution_count": 24,
   "id": "c78b47a7",
   "metadata": {},
   "outputs": [
    {
     "name": "stdout",
     "output_type": "stream",
     "text": [
      "Número de parâmetros: 7862\n",
      "      0/ 100000: 3.7479\n",
      "  10000/ 100000: 1.5103\n",
      "  20000/ 100000: 2.2173\n",
      "  30000/ 100000: 1.9544\n",
      "  40000/ 100000: 1.7264\n",
      "  50000/ 100000: 2.2196\n",
      "  60000/ 100000: 1.8895\n",
      "  70000/ 100000: 2.2264\n",
      "  80000/ 100000: 1.4865\n",
      "  90000/ 100000: 2.1099\n"
     ]
    }
   ],
   "source": [
    "vocab_size = len(itos)  # número de caracteres: 27 (a, b, c..., z, .)\n",
    "n_embd = 10  # dimensionalidade do vetor de embedding\n",
    "n_hidden = 100  # número de neurônios na camada escondida\n",
    "\n",
    "torch.manual_seed(0)\n",
    "g = torch.Generator().manual_seed(0)\n",
    "C  = torch.randn((vocab_size, n_embd),            generator=g)\n",
    "W1 = torch.randn((n_embd * block_size, n_hidden), generator=g) * (5/3)/((n_embd * block_size)**0.5) #* 0.2\n",
    "#b1 = torch.randn(n_hidden,                        generator=g) * 0.01\n",
    "W2 = torch.randn((n_hidden, vocab_size),          generator=g) * 0.01\n",
    "b2 = torch.randn(vocab_size,                      generator=g) * 0\n",
    "\n",
    "# Novos parâmetros de batchnorm\n",
    "bngain = torch.ones((1, n_hidden))  # gama\n",
    "bnbias = torch.zeros((1, n_hidden))  # beta\n",
    "\n",
    "parameters = [C, W1, W2, b2, bngain, bnbias]\n",
    "print(f\"Número de parâmetros: {sum(p.nelement() for p in parameters)}\")\n",
    "for p in parameters:\n",
    "    p.requires_grad = True\n",
    "\n",
    "# mesma otimização de antes\n",
    "max_steps = 100000\n",
    "batch_size = 32\n",
    "lossi = []\n",
    "\n",
    "for i in range(max_steps):\n",
    "  \n",
    "    # minibatch construct\n",
    "    ix = torch.randint(0, Xtr.shape[0], (batch_size,), generator=g)\n",
    "    Xb, Yb = Xtr[ix], Ytr[ix] # batch X,Y\n",
    "  \n",
    "    # forward pass\n",
    "    emb = C[Xb] # embedding\n",
    "    embcat = emb.view(emb.shape[0], -1)\n",
    "    # Linear layer\n",
    "    hpreact = embcat @ W1 #+ b1 # pré-ativação da camada escondida\n",
    "    # BatchNorm layer\n",
    "    # -------------------------------------------------------------\n",
    "    bnmeani = hpreact.mean(0, keepdim=True)\n",
    "    bnstdi = hpreact.std(0, keepdim=True)\n",
    "    hpreact = bngain * (hpreact - bnmeani) / bnstdi + bnbias\n",
    "    # -------------------------------------------------------------\n",
    "    # Não-linearidade\n",
    "    h = torch.tanh(hpreact) # camada escondida\n",
    "    logits = h @ W2 + b2 # camada de output\n",
    "    loss = F.cross_entropy(logits, Yb) # função perda\n",
    "\n",
    "    # backward pass\n",
    "    for p in parameters:\n",
    "        p.grad = None\n",
    "    loss.backward()\n",
    "\n",
    "    # update\n",
    "    lr = 0.1 if i < 80000 else 0.01 # decaimento da taxa de aprendizado\n",
    "    for p in parameters:\n",
    "        p.data += -lr * p.grad\n",
    "\n",
    "    # estatísticas de treino\n",
    "    if i % 10000 == 0:\n",
    "        print(f'{i:7d}/{max_steps:7d}: {loss.item():.4f}')\n",
    "    lossi.append(loss.log10().item())"
   ]
  },
  {
   "cell_type": "code",
   "execution_count": 25,
   "id": "e222f054",
   "metadata": {},
   "outputs": [
    {
     "name": "stdout",
     "output_type": "stream",
     "text": [
      "train 1.8588827848434448\n",
      "val 1.8280446529388428\n"
     ]
    }
   ],
   "source": [
    "@torch.no_grad() # this decorator disables gradient tracking\n",
    "def split_loss(split):\n",
    "    x,y = {\n",
    "      'train': (Xtr, Ytr),\n",
    "      'val': (Xdev, Ydev),\n",
    "      'test': (Xte, Yte),\n",
    "    }[split]\n",
    "    emb = C[x]\n",
    "    embcat = emb.view(emb.shape[0], -1)\n",
    "    # Novidade: batchnorm --------------\n",
    "    hpreact = embcat @ W1 # + b1\n",
    "    hpreact = bngain * (hpreact - hpreact.mean(0, keepdim=True)) / hpreact.std(0, keepdim=True) + bnbias\n",
    "    # ----------------------------------\n",
    "    h = torch.tanh(hpreact)\n",
    "    logits = h @ W2 + b2\n",
    "    loss = F.cross_entropy(logits, y)\n",
    "    print(split, loss.item())\n",
    "\n",
    "split_loss('train')\n",
    "split_loss('val')"
   ]
  },
  {
   "cell_type": "markdown",
   "id": "7a58dae7",
   "metadata": {},
   "source": [
    "No caso acima, houve uma leve piora em relação ao caso anterior, mas agora temos mais parâmetros. Além disso, já gastamos muito tempo escolhendo a melhor maneira de inicializar os parâmetros. Mas numa rede muitas camadas, batchnorm passa a ser essencial porque controla e, num certo sentido, isola o efeito de escala dos gradientes na medida em que eles fluem no grafo, evitando explosões ou implosões.\n",
    "\n",
    "Mas, repare que há um preço a ser pago. A escolha dos batches foi feita por eficiência computacional, mas agora, como normalizamos o batch, há uma influência de todos os elementos escolhidos aleatoriamente para estarem num batch na determinação da escala de média e variância! Se por um lado isso parece um acoplamento artificial, por outro parece conferir algum grau de regularização à rede, na medida em que ela precisa ser robusta a ruídos que aparecem pela natureza aleatória dos batches (em certo sentido, isso pode ser visto como um esquema de data augmentation).\n",
    "\n",
    "Um preço maior é o fato de que não mais conseguimos fazer a previsão para um ponto só! Como normalizamos o batch, se ele for composto de um elemento só nós ele será subtraído pela média. A solução mais frequente é encontrar a média e o desvio-padrão no conjunto de treino todo, e usá-lo na hora da validação e teste também. Para não precisar fazer isso como um passo adicional, ao final do treino, várias pessoas usam um contador ao longo do processo de treino que calcula a média e variância. Note que não são parâmetros aprendidos."
   ]
  },
  {
   "cell_type": "code",
   "execution_count": 26,
   "id": "c0697c9f",
   "metadata": {},
   "outputs": [
    {
     "name": "stdout",
     "output_type": "stream",
     "text": [
      "7862\n",
      "      0/ 100000: 3.7479\n",
      "  10000/ 100000: 1.5103\n",
      "  20000/ 100000: 2.2173\n",
      "  30000/ 100000: 1.9544\n",
      "  40000/ 100000: 1.7264\n",
      "  50000/ 100000: 2.2196\n",
      "  60000/ 100000: 1.8895\n",
      "  70000/ 100000: 2.2264\n",
      "  80000/ 100000: 1.4865\n",
      "  90000/ 100000: 2.1099\n"
     ]
    }
   ],
   "source": [
    "vocab_size = len(itos)  # número de caracteres: 27 (a, b, c..., z, .)\n",
    "n_embd = 10  # dimensionalidade do vetor de embedding\n",
    "n_hidden = 100  # número de neurônios na camada escondida\n",
    "\n",
    "torch.manual_seed(0)\n",
    "g = torch.Generator().manual_seed(0)\n",
    "C  = torch.randn((vocab_size, n_embd),            generator=g)\n",
    "W1 = torch.randn((n_embd * block_size, n_hidden), generator=g) * (5/3)/((n_embd * block_size)**0.5) #* 0.2\n",
    "#b1 = torch.randn(n_hidden,                        generator=g) * 0.01\n",
    "W2 = torch.randn((n_hidden, vocab_size),          generator=g) * 0.01\n",
    "b2 = torch.randn(vocab_size,                      generator=g) * 0\n",
    "\n",
    "# Novos parâmetros de batchnorm\n",
    "bngain = torch.ones((1, n_hidden))  # gama\n",
    "bnbias = torch.zeros((1, n_hidden))  # beta\n",
    "# -------------------------------------------------------------\n",
    "bnmean_running = torch.zeros((1, n_hidden)) # valor corrente para média\n",
    "bnstd_running = torch.ones((1, n_hidden))  # valor corrente para desvio-padrão\n",
    "# -------------------------------------------------------------\n",
    "\n",
    "parameters = [C, W1, W2, b2, bngain, bnbias]\n",
    "print(sum(p.nelement() for p in parameters))\n",
    "for p in parameters:\n",
    "    p.requires_grad = True\n",
    "\n",
    "# same optimization as last time\n",
    "max_steps = 100000\n",
    "batch_size = 32\n",
    "lossi = []\n",
    "\n",
    "for i in range(max_steps):\n",
    "  \n",
    "    # minibatch construct\n",
    "    ix = torch.randint(0, Xtr.shape[0], (batch_size,), generator=g)\n",
    "    Xb, Yb = Xtr[ix], Ytr[ix] # batch X,Y\n",
    "  \n",
    "    # forward pass\n",
    "    emb = C[Xb] # embed the characters into vectors\n",
    "    embcat = emb.view(emb.shape[0], -1) # concatenate the vectors\n",
    "    # Linear layer\n",
    "    hpreact = embcat @ W1 #+ b1 # hidden layer pre-activation\n",
    "    # BatchNorm layer\n",
    "    bnmeani = hpreact.mean(0, keepdim=True)\n",
    "    bnstdi = hpreact.std(0, keepdim=True)\n",
    "    hpreact = bngain * (hpreact - bnmeani) / bnstdi + bnbias\n",
    "    # -------------------------------------------------------------\n",
    "    with torch.no_grad():\n",
    "        bnmean_running = 0.999 * bnmean_running + 0.001 * bnmeani\n",
    "        bnstd_running = 0.999 * bnstd_running + 0.001 * bnstdi\n",
    "    # -------------------------------------------------------------\n",
    "    # Non-linearity\n",
    "    h = torch.tanh(hpreact) # hidden layer\n",
    "    logits = h @ W2 + b2 # output layer\n",
    "    loss = F.cross_entropy(logits, Yb) # loss function\n",
    "\n",
    "    # backward pass\n",
    "    for p in parameters:\n",
    "        p.grad = None\n",
    "    loss.backward()\n",
    "\n",
    "    # update\n",
    "    lr = 0.1 if i < 80000 else 0.01 # step learning rate decay\n",
    "    for p in parameters:\n",
    "        p.data += -lr * p.grad\n",
    "\n",
    "    # track stats\n",
    "    if i % 10000 == 0: # print every once in a while\n",
    "        print(f'{i:7d}/{max_steps:7d}: {loss.item():.4f}')\n",
    "    lossi.append(loss.log10().item())"
   ]
  },
  {
   "cell_type": "markdown",
   "id": "76dd4544",
   "metadata": {},
   "source": [
    "(Acima, usamos 0.999 e 0.001 para que o cálculo da média e do desvio-padrão se estabilize, de modo que (i) mais batches (portanto mais amostras) tenham sido considerados no cálculo dessas estatísticas, e (ii) as últimas épocas recebam mais peso, dado que nas primeiras a camada linear ainda estará sendo aprendida. É possível usar outros valores para batches de tamanhos muito maiores ou menores, ou cuja média ou variância mudem muito de acordo com o batch.)\n",
    "\n",
    "O valor dos parâmetros que encontramos de maneira corrente é bem perto do que obteríamos calculando a média e desvio-padrão no conjunto de treino todo:"
   ]
  },
  {
   "cell_type": "code",
   "execution_count": 27,
   "id": "84a6bbfb",
   "metadata": {},
   "outputs": [
    {
     "name": "stdout",
     "output_type": "stream",
     "text": [
      "tensor([-1.9584, -0.8743,  1.7688,  1.2136, -0.6219, -0.3591, -0.3900, -0.6907,\n",
      "        -0.7810, -0.2417])\n",
      "tensor([-1.9439, -0.8678,  1.7620,  1.2045, -0.6238, -0.3368, -0.4002, -0.7040,\n",
      "        -0.7794, -0.2220])\n"
     ]
    }
   ],
   "source": [
    "with torch.no_grad():\n",
    "    emb = C[Xtr]\n",
    "    embcat = emb.view(emb.shape[0], -1)\n",
    "    hpreact = embcat @ W1 # + b1\n",
    "    bnmean = hpreact.mean(0, keepdim=True)\n",
    "    bnstd = hpreact.std(0, keepdim=True)\n",
    "\n",
    "print(bnmean_running[0][0:10])\n",
    "print(bnmean[0][0:10])"
   ]
  },
  {
   "cell_type": "markdown",
   "id": "8a8885d1",
   "metadata": {},
   "source": [
    "Com isso, podemos calcular o valor das perdas sem depender do número de instâncias na validação ou teste:"
   ]
  },
  {
   "cell_type": "code",
   "execution_count": 28,
   "id": "defcd761",
   "metadata": {},
   "outputs": [
    {
     "name": "stdout",
     "output_type": "stream",
     "text": [
      "train 1.8588100671768188\n",
      "val 1.8274856805801392\n"
     ]
    }
   ],
   "source": [
    "@torch.no_grad() # this decorator disables gradient tracking\n",
    "def split_loss(split):\n",
    "    x,y = {\n",
    "      'train': (Xtr, Ytr),\n",
    "      'val': (Xdev, Ydev),\n",
    "      'test': (Xte, Yte),\n",
    "    }[split]\n",
    "    emb = C[x]\n",
    "    embcat = emb.view(emb.shape[0], -1)\n",
    "    hpreact = embcat @ W1 # + b1\n",
    "#   hpreact = bngain * (hpreact - hpreact.mean(0, keepdim=True)) / hpreact.std(0, keepdim=True) + bnbias\n",
    "    # ----------------------------------\n",
    "    hpreact = bngain * (hpreact - bnmean_running) / bnstd_running + bnbias\n",
    "    # ----------------------------------\n",
    "    h = torch.tanh(hpreact)\n",
    "    logits = h @ W2 + b2\n",
    "    loss = F.cross_entropy(logits, y)\n",
    "    print(split, loss.item())\n",
    "\n",
    "split_loss('train')\n",
    "split_loss('val')"
   ]
  },
  {
   "cell_type": "markdown",
   "id": "0dc1cb00",
   "metadata": {},
   "source": [
    "Ou seja, usando batchnorm nós conseguimos nos preocupar menos com as questões de inicialização e gradientes explosivos/dissipantes, e começar a criar redes com mais camadas sem se preocupar com a estabilidade do treino."
   ]
  },
  {
   "cell_type": "code",
   "execution_count": 29,
   "id": "71db6164",
   "metadata": {},
   "outputs": [
    {
     "name": "stdout",
     "output_type": "stream",
     "text": [
      "cala para lega fuia. tiver que encoi. a fos dizeram, hantoguémela dísrar rê-la o dento cheve de filha, só,-nha famaror, não o pode dibúlas que mes de tram não, do mos destava podo maria dever cons jom\n"
     ]
    }
   ],
   "source": [
    "torch.manual_seed(0)\n",
    "g = torch.Generator().manual_seed(0)\n",
    "out = []\n",
    "context = [0] * block_size\n",
    "for i in range(200):\n",
    "#     emb = C[torch.tensor([context])]\n",
    "#     h = torch.tanh(emb.view(1, -1) @ W1 + b1)\n",
    "#     logits = h @ W2 + b2\n",
    "    emb = C[torch.tensor([context])]\n",
    "    embcat = emb.view(emb.shape[0], -1)\n",
    "    hpreact = embcat @ W1 # + b1\n",
    "#   hpreact = bngain * (hpreact - hpreact.mean(0, keepdim=True)) / hpreact.std(0, keepdim=True) + bnbias\n",
    "    # ----------------------------------\n",
    "    hpreact = bngain * (hpreact - bnmean_running) / bnstd_running + bnbias\n",
    "    # ----------------------------------\n",
    "    h = torch.tanh(hpreact)\n",
    "    logits = h @ W2 + b2\n",
    "    probs = F.softmax(logits, dim=1)\n",
    "    ix = torch.multinomial(probs, num_samples=1, generator=g).item()\n",
    "    context = context[1:] + [ix]\n",
    "    out.append(ix)\n",
    "    \n",
    "print(''.join(itos[i] for i in out))"
   ]
  },
  {
   "cell_type": "markdown",
   "id": "20acf3c4",
   "metadata": {},
   "source": [
    "Claramente ainda há espaço para melhoras. A direção natural é deixar a rede mais complexa."
   ]
  }
 ],
 "metadata": {
  "kernelspec": {
   "display_name": "Python 3 (ipykernel)",
   "language": "python",
   "name": "python3"
  },
  "language_info": {
   "codemirror_mode": {
    "name": "ipython",
    "version": 3
   },
   "file_extension": ".py",
   "mimetype": "text/x-python",
   "name": "python",
   "nbconvert_exporter": "python",
   "pygments_lexer": "ipython3",
   "version": "3.10.13"
  }
 },
 "nbformat": 4,
 "nbformat_minor": 5
}
